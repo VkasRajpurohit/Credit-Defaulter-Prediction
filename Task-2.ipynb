{
 "cells": [
  {
   "cell_type": "markdown",
   "id": "81d0db64",
   "metadata": {},
   "source": [
    "# $$Data Science Assignment - Full Time$$\n",
    "---\n",
    "---"
   ]
  },
  {
   "cell_type": "markdown",
   "id": "4437a980",
   "metadata": {},
   "source": [
    "## Data Pre-Processing"
   ]
  },
  {
   "cell_type": "markdown",
   "id": "74b4d7e0",
   "metadata": {},
   "source": [
    "#### Import Packages and CSV"
   ]
  },
  {
   "cell_type": "code",
   "execution_count": 1,
   "id": "5530cc59",
   "metadata": {},
   "outputs": [],
   "source": [
    "import pandas as pd\n",
    "import numpy as np\n",
    "import matplotlib.pyplot as plt\n",
    "import seaborn as sb\n",
    "\n",
    "from sklearn.preprocessing import LabelEncoder, OneHotEncoder, StandardScaler, PowerTransformer\n",
    "from sklearn.compose import ColumnTransformer\n",
    "from sklearn.pipeline import Pipeline\n",
    "from sklearn.impute import SimpleImputer\n",
    "\n",
    "from sklearn.model_selection import train_test_split\n",
    "\n",
    "import warnings\n",
    "warnings.filterwarnings(\"ignore\")"
   ]
  },
  {
   "cell_type": "code",
   "execution_count": 2,
   "id": "2420f176",
   "metadata": {},
   "outputs": [
    {
     "data": {
      "text/html": [
       "<div>\n",
       "<style scoped>\n",
       "    .dataframe tbody tr th:only-of-type {\n",
       "        vertical-align: middle;\n",
       "    }\n",
       "\n",
       "    .dataframe tbody tr th {\n",
       "        vertical-align: top;\n",
       "    }\n",
       "\n",
       "    .dataframe thead th {\n",
       "        text-align: right;\n",
       "    }\n",
       "</style>\n",
       "<table border=\"1\" class=\"dataframe\">\n",
       "  <thead>\n",
       "    <tr style=\"text-align: right;\">\n",
       "      <th></th>\n",
       "      <th>Unnamed: 0</th>\n",
       "      <th>applicant_id</th>\n",
       "      <th>Primary_applicant_age_in_years</th>\n",
       "      <th>Gender</th>\n",
       "      <th>Marital_status</th>\n",
       "      <th>Number_of_dependents</th>\n",
       "      <th>Housing</th>\n",
       "      <th>Years_at_current_residence</th>\n",
       "      <th>Employment_status</th>\n",
       "      <th>Has_been_employed_for_at_least</th>\n",
       "      <th>Has_been_employed_for_at_most</th>\n",
       "      <th>Telephone</th>\n",
       "      <th>Foreign_worker</th>\n",
       "      <th>Savings_account_balance</th>\n",
       "      <th>Balance_in_existing_bank_account_(lower_limit_of_bucket)</th>\n",
       "      <th>Balance_in_existing_bank_account_(upper_limit_of_bucket)</th>\n",
       "      <th>loan_application_id</th>\n",
       "      <th>Months_loan_taken_for</th>\n",
       "      <th>Purpose</th>\n",
       "      <th>Principal_loan_amount</th>\n",
       "      <th>EMI_rate_in_percentage_of_disposable_income</th>\n",
       "      <th>Property</th>\n",
       "      <th>Has_coapplicant</th>\n",
       "      <th>Has_guarantor</th>\n",
       "      <th>Other_EMI_plans</th>\n",
       "      <th>Number_of_existing_loans_at_this_bank</th>\n",
       "      <th>Loan_history</th>\n",
       "      <th>high_risk_applicant</th>\n",
       "    </tr>\n",
       "  </thead>\n",
       "  <tbody>\n",
       "    <tr>\n",
       "      <th>0</th>\n",
       "      <td>0</td>\n",
       "      <td>1469590</td>\n",
       "      <td>67</td>\n",
       "      <td>male</td>\n",
       "      <td>single</td>\n",
       "      <td>1</td>\n",
       "      <td>own</td>\n",
       "      <td>4</td>\n",
       "      <td>skilled employee / official</td>\n",
       "      <td>7 years</td>\n",
       "      <td>NaN</td>\n",
       "      <td>Registered under the applicant's name</td>\n",
       "      <td>1</td>\n",
       "      <td>NaN</td>\n",
       "      <td>NaN</td>\n",
       "      <td>0</td>\n",
       "      <td>d68d975e-edad-11ea-8761-1d6f9c1ff461</td>\n",
       "      <td>6</td>\n",
       "      <td>electronic equipment</td>\n",
       "      <td>1169000</td>\n",
       "      <td>4</td>\n",
       "      <td>real estate</td>\n",
       "      <td>0</td>\n",
       "      <td>0</td>\n",
       "      <td>NaN</td>\n",
       "      <td>2</td>\n",
       "      <td>critical/pending loans at other banks</td>\n",
       "      <td>0</td>\n",
       "    </tr>\n",
       "    <tr>\n",
       "      <th>1</th>\n",
       "      <td>1</td>\n",
       "      <td>1203873</td>\n",
       "      <td>22</td>\n",
       "      <td>female</td>\n",
       "      <td>divorced/separated/married</td>\n",
       "      <td>1</td>\n",
       "      <td>own</td>\n",
       "      <td>2</td>\n",
       "      <td>skilled employee / official</td>\n",
       "      <td>1 year</td>\n",
       "      <td>4 years</td>\n",
       "      <td>NaN</td>\n",
       "      <td>1</td>\n",
       "      <td>Low</td>\n",
       "      <td>0</td>\n",
       "      <td>2 lac</td>\n",
       "      <td>d68d989e-edad-11ea-b1d5-2bcf65006448</td>\n",
       "      <td>48</td>\n",
       "      <td>electronic equipment</td>\n",
       "      <td>5951000</td>\n",
       "      <td>2</td>\n",
       "      <td>real estate</td>\n",
       "      <td>0</td>\n",
       "      <td>0</td>\n",
       "      <td>NaN</td>\n",
       "      <td>1</td>\n",
       "      <td>existing loans paid back duly till now</td>\n",
       "      <td>1</td>\n",
       "    </tr>\n",
       "    <tr>\n",
       "      <th>2</th>\n",
       "      <td>2</td>\n",
       "      <td>1432761</td>\n",
       "      <td>49</td>\n",
       "      <td>male</td>\n",
       "      <td>single</td>\n",
       "      <td>2</td>\n",
       "      <td>own</td>\n",
       "      <td>3</td>\n",
       "      <td>unskilled - resident</td>\n",
       "      <td>4 years</td>\n",
       "      <td>7 years</td>\n",
       "      <td>NaN</td>\n",
       "      <td>1</td>\n",
       "      <td>Low</td>\n",
       "      <td>NaN</td>\n",
       "      <td>NaN</td>\n",
       "      <td>d68d995c-edad-11ea-814a-1b6716782575</td>\n",
       "      <td>12</td>\n",
       "      <td>education</td>\n",
       "      <td>2096000</td>\n",
       "      <td>2</td>\n",
       "      <td>real estate</td>\n",
       "      <td>0</td>\n",
       "      <td>0</td>\n",
       "      <td>NaN</td>\n",
       "      <td>1</td>\n",
       "      <td>critical/pending loans at other banks</td>\n",
       "      <td>0</td>\n",
       "    </tr>\n",
       "    <tr>\n",
       "      <th>3</th>\n",
       "      <td>3</td>\n",
       "      <td>1207582</td>\n",
       "      <td>45</td>\n",
       "      <td>male</td>\n",
       "      <td>single</td>\n",
       "      <td>2</td>\n",
       "      <td>for free</td>\n",
       "      <td>4</td>\n",
       "      <td>skilled employee / official</td>\n",
       "      <td>4 years</td>\n",
       "      <td>7 years</td>\n",
       "      <td>NaN</td>\n",
       "      <td>1</td>\n",
       "      <td>Low</td>\n",
       "      <td>NaN</td>\n",
       "      <td>0</td>\n",
       "      <td>d68d99fc-edad-11ea-8841-17e8848060ae</td>\n",
       "      <td>42</td>\n",
       "      <td>FF&amp;E</td>\n",
       "      <td>7882000</td>\n",
       "      <td>2</td>\n",
       "      <td>building society savings agreement/life insurance</td>\n",
       "      <td>0</td>\n",
       "      <td>1</td>\n",
       "      <td>NaN</td>\n",
       "      <td>1</td>\n",
       "      <td>existing loans paid back duly till now</td>\n",
       "      <td>0</td>\n",
       "    </tr>\n",
       "    <tr>\n",
       "      <th>4</th>\n",
       "      <td>4</td>\n",
       "      <td>1674436</td>\n",
       "      <td>53</td>\n",
       "      <td>male</td>\n",
       "      <td>single</td>\n",
       "      <td>2</td>\n",
       "      <td>for free</td>\n",
       "      <td>4</td>\n",
       "      <td>skilled employee / official</td>\n",
       "      <td>1 year</td>\n",
       "      <td>4 years</td>\n",
       "      <td>NaN</td>\n",
       "      <td>1</td>\n",
       "      <td>Low</td>\n",
       "      <td>NaN</td>\n",
       "      <td>0</td>\n",
       "      <td>d68d9a92-edad-11ea-9f3d-1f8682db006a</td>\n",
       "      <td>24</td>\n",
       "      <td>new vehicle</td>\n",
       "      <td>4870000</td>\n",
       "      <td>3</td>\n",
       "      <td>NaN</td>\n",
       "      <td>0</td>\n",
       "      <td>0</td>\n",
       "      <td>NaN</td>\n",
       "      <td>2</td>\n",
       "      <td>delay in paying off loans in the past</td>\n",
       "      <td>1</td>\n",
       "    </tr>\n",
       "  </tbody>\n",
       "</table>\n",
       "</div>"
      ],
      "text/plain": [
       "   Unnamed: 0  applicant_id  Primary_applicant_age_in_years  Gender  \\\n",
       "0           0       1469590                              67    male   \n",
       "1           1       1203873                              22  female   \n",
       "2           2       1432761                              49    male   \n",
       "3           3       1207582                              45    male   \n",
       "4           4       1674436                              53    male   \n",
       "\n",
       "               Marital_status  Number_of_dependents   Housing  \\\n",
       "0                      single                     1       own   \n",
       "1  divorced/separated/married                     1       own   \n",
       "2                      single                     2       own   \n",
       "3                      single                     2  for free   \n",
       "4                      single                     2  for free   \n",
       "\n",
       "   Years_at_current_residence            Employment_status  \\\n",
       "0                           4  skilled employee / official   \n",
       "1                           2  skilled employee / official   \n",
       "2                           3         unskilled - resident   \n",
       "3                           4  skilled employee / official   \n",
       "4                           4  skilled employee / official   \n",
       "\n",
       "  Has_been_employed_for_at_least Has_been_employed_for_at_most  \\\n",
       "0                        7 years                           NaN   \n",
       "1                         1 year                       4 years   \n",
       "2                        4 years                       7 years   \n",
       "3                        4 years                       7 years   \n",
       "4                         1 year                       4 years   \n",
       "\n",
       "                               Telephone  Foreign_worker  \\\n",
       "0  Registered under the applicant's name               1   \n",
       "1                                    NaN               1   \n",
       "2                                    NaN               1   \n",
       "3                                    NaN               1   \n",
       "4                                    NaN               1   \n",
       "\n",
       "  Savings_account_balance  \\\n",
       "0                     NaN   \n",
       "1                     Low   \n",
       "2                     Low   \n",
       "3                     Low   \n",
       "4                     Low   \n",
       "\n",
       "  Balance_in_existing_bank_account_(lower_limit_of_bucket)  \\\n",
       "0                                                NaN         \n",
       "1                                                  0         \n",
       "2                                                NaN         \n",
       "3                                                NaN         \n",
       "4                                                NaN         \n",
       "\n",
       "  Balance_in_existing_bank_account_(upper_limit_of_bucket)  \\\n",
       "0                                                  0         \n",
       "1                                              2 lac         \n",
       "2                                                NaN         \n",
       "3                                                  0         \n",
       "4                                                  0         \n",
       "\n",
       "                    loan_application_id  Months_loan_taken_for  \\\n",
       "0  d68d975e-edad-11ea-8761-1d6f9c1ff461                      6   \n",
       "1  d68d989e-edad-11ea-b1d5-2bcf65006448                     48   \n",
       "2  d68d995c-edad-11ea-814a-1b6716782575                     12   \n",
       "3  d68d99fc-edad-11ea-8841-17e8848060ae                     42   \n",
       "4  d68d9a92-edad-11ea-9f3d-1f8682db006a                     24   \n",
       "\n",
       "                Purpose  Principal_loan_amount  \\\n",
       "0  electronic equipment                1169000   \n",
       "1  electronic equipment                5951000   \n",
       "2             education                2096000   \n",
       "3                  FF&E                7882000   \n",
       "4           new vehicle                4870000   \n",
       "\n",
       "   EMI_rate_in_percentage_of_disposable_income  \\\n",
       "0                                            4   \n",
       "1                                            2   \n",
       "2                                            2   \n",
       "3                                            2   \n",
       "4                                            3   \n",
       "\n",
       "                                            Property  Has_coapplicant  \\\n",
       "0                                        real estate                0   \n",
       "1                                        real estate                0   \n",
       "2                                        real estate                0   \n",
       "3  building society savings agreement/life insurance                0   \n",
       "4                                                NaN                0   \n",
       "\n",
       "   Has_guarantor Other_EMI_plans  Number_of_existing_loans_at_this_bank  \\\n",
       "0              0             NaN                                      2   \n",
       "1              0             NaN                                      1   \n",
       "2              0             NaN                                      1   \n",
       "3              1             NaN                                      1   \n",
       "4              0             NaN                                      2   \n",
       "\n",
       "                             Loan_history  high_risk_applicant  \n",
       "0   critical/pending loans at other banks                    0  \n",
       "1  existing loans paid back duly till now                    1  \n",
       "2   critical/pending loans at other banks                    0  \n",
       "3  existing loans paid back duly till now                    0  \n",
       "4   delay in paying off loans in the past                    1  "
      ]
     },
     "execution_count": 2,
     "metadata": {},
     "output_type": "execute_result"
    }
   ],
   "source": [
    "df = pd.read_csv(\"data/merged_data.csv\")\n",
    "pd.pandas.set_option(\"display.max_columns\", None)\n",
    "df.head()"
   ]
  },
  {
   "cell_type": "code",
   "execution_count": 3,
   "id": "4ac0ed40",
   "metadata": {},
   "outputs": [
    {
     "data": {
      "text/html": [
       "<div>\n",
       "<style scoped>\n",
       "    .dataframe tbody tr th:only-of-type {\n",
       "        vertical-align: middle;\n",
       "    }\n",
       "\n",
       "    .dataframe tbody tr th {\n",
       "        vertical-align: top;\n",
       "    }\n",
       "\n",
       "    .dataframe thead th {\n",
       "        text-align: right;\n",
       "    }\n",
       "</style>\n",
       "<table border=\"1\" class=\"dataframe\">\n",
       "  <thead>\n",
       "    <tr style=\"text-align: right;\">\n",
       "      <th></th>\n",
       "      <th>applicant_id</th>\n",
       "      <th>Primary_applicant_age_in_years</th>\n",
       "      <th>Gender</th>\n",
       "      <th>Marital_status</th>\n",
       "      <th>Number_of_dependents</th>\n",
       "      <th>Housing</th>\n",
       "      <th>Years_at_current_residence</th>\n",
       "      <th>Employment_status</th>\n",
       "      <th>Has_been_employed_for_at_least</th>\n",
       "      <th>Has_been_employed_for_at_most</th>\n",
       "      <th>Telephone</th>\n",
       "      <th>Foreign_worker</th>\n",
       "      <th>Savings_account_balance</th>\n",
       "      <th>Balance_in_existing_bank_account_(lower_limit_of_bucket)</th>\n",
       "      <th>Balance_in_existing_bank_account_(upper_limit_of_bucket)</th>\n",
       "      <th>loan_application_id</th>\n",
       "      <th>Months_loan_taken_for</th>\n",
       "      <th>Purpose</th>\n",
       "      <th>Principal_loan_amount</th>\n",
       "      <th>EMI_rate_in_percentage_of_disposable_income</th>\n",
       "      <th>Property</th>\n",
       "      <th>Has_coapplicant</th>\n",
       "      <th>Has_guarantor</th>\n",
       "      <th>Other_EMI_plans</th>\n",
       "      <th>Number_of_existing_loans_at_this_bank</th>\n",
       "      <th>Loan_history</th>\n",
       "      <th>high_risk_applicant</th>\n",
       "    </tr>\n",
       "  </thead>\n",
       "  <tbody>\n",
       "    <tr>\n",
       "      <th>0</th>\n",
       "      <td>1469590</td>\n",
       "      <td>67</td>\n",
       "      <td>male</td>\n",
       "      <td>single</td>\n",
       "      <td>1</td>\n",
       "      <td>own</td>\n",
       "      <td>4</td>\n",
       "      <td>skilled employee / official</td>\n",
       "      <td>7 years</td>\n",
       "      <td>NaN</td>\n",
       "      <td>Registered under the applicant's name</td>\n",
       "      <td>1</td>\n",
       "      <td>NaN</td>\n",
       "      <td>NaN</td>\n",
       "      <td>0</td>\n",
       "      <td>d68d975e-edad-11ea-8761-1d6f9c1ff461</td>\n",
       "      <td>6</td>\n",
       "      <td>electronic equipment</td>\n",
       "      <td>1169000</td>\n",
       "      <td>4</td>\n",
       "      <td>real estate</td>\n",
       "      <td>0</td>\n",
       "      <td>0</td>\n",
       "      <td>NaN</td>\n",
       "      <td>2</td>\n",
       "      <td>critical/pending loans at other banks</td>\n",
       "      <td>0</td>\n",
       "    </tr>\n",
       "    <tr>\n",
       "      <th>1</th>\n",
       "      <td>1203873</td>\n",
       "      <td>22</td>\n",
       "      <td>female</td>\n",
       "      <td>divorced/separated/married</td>\n",
       "      <td>1</td>\n",
       "      <td>own</td>\n",
       "      <td>2</td>\n",
       "      <td>skilled employee / official</td>\n",
       "      <td>1 year</td>\n",
       "      <td>4 years</td>\n",
       "      <td>NaN</td>\n",
       "      <td>1</td>\n",
       "      <td>Low</td>\n",
       "      <td>0</td>\n",
       "      <td>2 lac</td>\n",
       "      <td>d68d989e-edad-11ea-b1d5-2bcf65006448</td>\n",
       "      <td>48</td>\n",
       "      <td>electronic equipment</td>\n",
       "      <td>5951000</td>\n",
       "      <td>2</td>\n",
       "      <td>real estate</td>\n",
       "      <td>0</td>\n",
       "      <td>0</td>\n",
       "      <td>NaN</td>\n",
       "      <td>1</td>\n",
       "      <td>existing loans paid back duly till now</td>\n",
       "      <td>1</td>\n",
       "    </tr>\n",
       "    <tr>\n",
       "      <th>2</th>\n",
       "      <td>1432761</td>\n",
       "      <td>49</td>\n",
       "      <td>male</td>\n",
       "      <td>single</td>\n",
       "      <td>2</td>\n",
       "      <td>own</td>\n",
       "      <td>3</td>\n",
       "      <td>unskilled - resident</td>\n",
       "      <td>4 years</td>\n",
       "      <td>7 years</td>\n",
       "      <td>NaN</td>\n",
       "      <td>1</td>\n",
       "      <td>Low</td>\n",
       "      <td>NaN</td>\n",
       "      <td>NaN</td>\n",
       "      <td>d68d995c-edad-11ea-814a-1b6716782575</td>\n",
       "      <td>12</td>\n",
       "      <td>education</td>\n",
       "      <td>2096000</td>\n",
       "      <td>2</td>\n",
       "      <td>real estate</td>\n",
       "      <td>0</td>\n",
       "      <td>0</td>\n",
       "      <td>NaN</td>\n",
       "      <td>1</td>\n",
       "      <td>critical/pending loans at other banks</td>\n",
       "      <td>0</td>\n",
       "    </tr>\n",
       "    <tr>\n",
       "      <th>3</th>\n",
       "      <td>1207582</td>\n",
       "      <td>45</td>\n",
       "      <td>male</td>\n",
       "      <td>single</td>\n",
       "      <td>2</td>\n",
       "      <td>for free</td>\n",
       "      <td>4</td>\n",
       "      <td>skilled employee / official</td>\n",
       "      <td>4 years</td>\n",
       "      <td>7 years</td>\n",
       "      <td>NaN</td>\n",
       "      <td>1</td>\n",
       "      <td>Low</td>\n",
       "      <td>NaN</td>\n",
       "      <td>0</td>\n",
       "      <td>d68d99fc-edad-11ea-8841-17e8848060ae</td>\n",
       "      <td>42</td>\n",
       "      <td>FF&amp;E</td>\n",
       "      <td>7882000</td>\n",
       "      <td>2</td>\n",
       "      <td>building society savings agreement/life insurance</td>\n",
       "      <td>0</td>\n",
       "      <td>1</td>\n",
       "      <td>NaN</td>\n",
       "      <td>1</td>\n",
       "      <td>existing loans paid back duly till now</td>\n",
       "      <td>0</td>\n",
       "    </tr>\n",
       "    <tr>\n",
       "      <th>4</th>\n",
       "      <td>1674436</td>\n",
       "      <td>53</td>\n",
       "      <td>male</td>\n",
       "      <td>single</td>\n",
       "      <td>2</td>\n",
       "      <td>for free</td>\n",
       "      <td>4</td>\n",
       "      <td>skilled employee / official</td>\n",
       "      <td>1 year</td>\n",
       "      <td>4 years</td>\n",
       "      <td>NaN</td>\n",
       "      <td>1</td>\n",
       "      <td>Low</td>\n",
       "      <td>NaN</td>\n",
       "      <td>0</td>\n",
       "      <td>d68d9a92-edad-11ea-9f3d-1f8682db006a</td>\n",
       "      <td>24</td>\n",
       "      <td>new vehicle</td>\n",
       "      <td>4870000</td>\n",
       "      <td>3</td>\n",
       "      <td>NaN</td>\n",
       "      <td>0</td>\n",
       "      <td>0</td>\n",
       "      <td>NaN</td>\n",
       "      <td>2</td>\n",
       "      <td>delay in paying off loans in the past</td>\n",
       "      <td>1</td>\n",
       "    </tr>\n",
       "  </tbody>\n",
       "</table>\n",
       "</div>"
      ],
      "text/plain": [
       "   applicant_id  Primary_applicant_age_in_years  Gender  \\\n",
       "0       1469590                              67    male   \n",
       "1       1203873                              22  female   \n",
       "2       1432761                              49    male   \n",
       "3       1207582                              45    male   \n",
       "4       1674436                              53    male   \n",
       "\n",
       "               Marital_status  Number_of_dependents   Housing  \\\n",
       "0                      single                     1       own   \n",
       "1  divorced/separated/married                     1       own   \n",
       "2                      single                     2       own   \n",
       "3                      single                     2  for free   \n",
       "4                      single                     2  for free   \n",
       "\n",
       "   Years_at_current_residence            Employment_status  \\\n",
       "0                           4  skilled employee / official   \n",
       "1                           2  skilled employee / official   \n",
       "2                           3         unskilled - resident   \n",
       "3                           4  skilled employee / official   \n",
       "4                           4  skilled employee / official   \n",
       "\n",
       "  Has_been_employed_for_at_least Has_been_employed_for_at_most  \\\n",
       "0                        7 years                           NaN   \n",
       "1                         1 year                       4 years   \n",
       "2                        4 years                       7 years   \n",
       "3                        4 years                       7 years   \n",
       "4                         1 year                       4 years   \n",
       "\n",
       "                               Telephone  Foreign_worker  \\\n",
       "0  Registered under the applicant's name               1   \n",
       "1                                    NaN               1   \n",
       "2                                    NaN               1   \n",
       "3                                    NaN               1   \n",
       "4                                    NaN               1   \n",
       "\n",
       "  Savings_account_balance  \\\n",
       "0                     NaN   \n",
       "1                     Low   \n",
       "2                     Low   \n",
       "3                     Low   \n",
       "4                     Low   \n",
       "\n",
       "  Balance_in_existing_bank_account_(lower_limit_of_bucket)  \\\n",
       "0                                                NaN         \n",
       "1                                                  0         \n",
       "2                                                NaN         \n",
       "3                                                NaN         \n",
       "4                                                NaN         \n",
       "\n",
       "  Balance_in_existing_bank_account_(upper_limit_of_bucket)  \\\n",
       "0                                                  0         \n",
       "1                                              2 lac         \n",
       "2                                                NaN         \n",
       "3                                                  0         \n",
       "4                                                  0         \n",
       "\n",
       "                    loan_application_id  Months_loan_taken_for  \\\n",
       "0  d68d975e-edad-11ea-8761-1d6f9c1ff461                      6   \n",
       "1  d68d989e-edad-11ea-b1d5-2bcf65006448                     48   \n",
       "2  d68d995c-edad-11ea-814a-1b6716782575                     12   \n",
       "3  d68d99fc-edad-11ea-8841-17e8848060ae                     42   \n",
       "4  d68d9a92-edad-11ea-9f3d-1f8682db006a                     24   \n",
       "\n",
       "                Purpose  Principal_loan_amount  \\\n",
       "0  electronic equipment                1169000   \n",
       "1  electronic equipment                5951000   \n",
       "2             education                2096000   \n",
       "3                  FF&E                7882000   \n",
       "4           new vehicle                4870000   \n",
       "\n",
       "   EMI_rate_in_percentage_of_disposable_income  \\\n",
       "0                                            4   \n",
       "1                                            2   \n",
       "2                                            2   \n",
       "3                                            2   \n",
       "4                                            3   \n",
       "\n",
       "                                            Property  Has_coapplicant  \\\n",
       "0                                        real estate                0   \n",
       "1                                        real estate                0   \n",
       "2                                        real estate                0   \n",
       "3  building society savings agreement/life insurance                0   \n",
       "4                                                NaN                0   \n",
       "\n",
       "   Has_guarantor Other_EMI_plans  Number_of_existing_loans_at_this_bank  \\\n",
       "0              0             NaN                                      2   \n",
       "1              0             NaN                                      1   \n",
       "2              0             NaN                                      1   \n",
       "3              1             NaN                                      1   \n",
       "4              0             NaN                                      2   \n",
       "\n",
       "                             Loan_history  high_risk_applicant  \n",
       "0   critical/pending loans at other banks                    0  \n",
       "1  existing loans paid back duly till now                    1  \n",
       "2   critical/pending loans at other banks                    0  \n",
       "3  existing loans paid back duly till now                    0  \n",
       "4   delay in paying off loans in the past                    1  "
      ]
     },
     "execution_count": 3,
     "metadata": {},
     "output_type": "execute_result"
    }
   ],
   "source": [
    "df = df.drop('Unnamed: 0', axis=1)\n",
    "df.head()"
   ]
  },
  {
   "cell_type": "code",
   "execution_count": 4,
   "id": "a965b3f7",
   "metadata": {},
   "outputs": [
    {
     "name": "stdout",
     "output_type": "stream",
     "text": [
      "df shape: (1000, 27)\n"
     ]
    }
   ],
   "source": [
    "print('df shape: {}'.format(df.shape))"
   ]
  },
  {
   "cell_type": "markdown",
   "id": "c27265bd",
   "metadata": {},
   "source": [
    "## Data Cleaning"
   ]
  },
  {
   "cell_type": "markdown",
   "id": "40b4a428",
   "metadata": {},
   "source": [
    "#### Check Null Values"
   ]
  },
  {
   "cell_type": "code",
   "execution_count": 5,
   "id": "2b94aa8f",
   "metadata": {},
   "outputs": [
    {
     "name": "stdout",
     "output_type": "stream",
     "text": [
      "Has_been_employed_for_at_least : 6.2 % missing values\n",
      "Has_been_employed_for_at_most : 25.3 % missing values\n",
      "Telephone : 59.6 % missing values\n",
      "Savings_account_balance : 18.3 % missing values\n",
      "Balance_in_existing_bank_account_(lower_limit_of_bucket) : 66.8 % missing values\n",
      "Balance_in_existing_bank_account_(upper_limit_of_bucket) : 45.7 % missing values\n",
      "Purpose : 1.2 % missing values\n",
      "Property : 15.4 % missing values\n",
      "Other_EMI_plans : 81.4 % missing values\n"
     ]
    }
   ],
   "source": [
    "# These are the features with nan value\n",
    "features_with_na = [features for features in df.columns if df[features].isnull().sum()>=1]\n",
    "try:\n",
    "    for feature in features_with_na:\n",
    "        print('{} : {} % missing values'.format(feature, np.round(df[feature].isnull().mean()*100,5)))\n",
    "except Exception as e:\n",
    "    print('Error: ', str(e))"
   ]
  },
  {
   "cell_type": "markdown",
   "id": "76eafe12",
   "metadata": {},
   "source": [
    "## Other Data Cleaning steps"
   ]
  },
  {
   "cell_type": "markdown",
   "id": "471fd48f",
   "metadata": {},
   "source": [
    "**Handling Duplicates**"
   ]
  },
  {
   "cell_type": "code",
   "execution_count": 6,
   "id": "d8fa17e0",
   "metadata": {},
   "outputs": [
    {
     "data": {
      "text/plain": [
       "0"
      ]
     },
     "execution_count": 6,
     "metadata": {},
     "output_type": "execute_result"
    }
   ],
   "source": [
    "# Checking for duplicates\n",
    "df.duplicated().sum()"
   ]
  },
  {
   "cell_type": "markdown",
   "id": "5cf6d275",
   "metadata": {},
   "source": [
    "- Remove `applicant_id` & `loan_application_id` from the dataset as it cannot used in Model Training.\n",
    "- `Telephone` isn't an important feature, hence removing this one also.\n",
    "\n",
    "\n",
    "- As a Report form the EDA below feautes are independent to the target columnn (Not-Correlated with target), hence these also can be removed.\n",
    " - `Employment_status`\n",
    " - `Other_EMI_plans`\n",
    " - `Number_of_dependents`\n",
    " - `Years_at_current_residence`\n",
    " - `EMI_rate_in_percentage_of_disposable_income`\n",
    " - `Has_coapplicant`\n",
    " - `Has_guarantor`\n",
    "- There are more than 40% of missing values present in below features, we can not remove entire rows as there is small dataset and filling missing values with most_frequent_category will make it more imbalance data, it would be biased, hence we will drop these feature columns.\n",
    " - `Balance_in_existing_bank_account_(lower_limit_of_bucket)` : 66.8 % missing values\n",
    " - `Balance_in_existing_bank_account_(upper_limit_of_bucket)` : 45.7 % missing values\n",
    "- As a Report form the EDA `Number_of_existing_loans_at_this_bank` also showing independent to the target columnn, however as per domain knowledge, it is an important feature."
   ]
  },
  {
   "cell_type": "code",
   "execution_count": 7,
   "id": "828c0a89",
   "metadata": {},
   "outputs": [
    {
     "data": {
      "text/html": [
       "<div>\n",
       "<style scoped>\n",
       "    .dataframe tbody tr th:only-of-type {\n",
       "        vertical-align: middle;\n",
       "    }\n",
       "\n",
       "    .dataframe tbody tr th {\n",
       "        vertical-align: top;\n",
       "    }\n",
       "\n",
       "    .dataframe thead th {\n",
       "        text-align: right;\n",
       "    }\n",
       "</style>\n",
       "<table border=\"1\" class=\"dataframe\">\n",
       "  <thead>\n",
       "    <tr style=\"text-align: right;\">\n",
       "      <th></th>\n",
       "      <th>Primary_applicant_age_in_years</th>\n",
       "      <th>Gender</th>\n",
       "      <th>Marital_status</th>\n",
       "      <th>Housing</th>\n",
       "      <th>Has_been_employed_for_at_least</th>\n",
       "      <th>Has_been_employed_for_at_most</th>\n",
       "      <th>Foreign_worker</th>\n",
       "      <th>Savings_account_balance</th>\n",
       "      <th>Months_loan_taken_for</th>\n",
       "      <th>Purpose</th>\n",
       "      <th>Principal_loan_amount</th>\n",
       "      <th>Property</th>\n",
       "      <th>Number_of_existing_loans_at_this_bank</th>\n",
       "      <th>Loan_history</th>\n",
       "      <th>high_risk_applicant</th>\n",
       "    </tr>\n",
       "  </thead>\n",
       "  <tbody>\n",
       "    <tr>\n",
       "      <th>0</th>\n",
       "      <td>67</td>\n",
       "      <td>male</td>\n",
       "      <td>single</td>\n",
       "      <td>own</td>\n",
       "      <td>7 years</td>\n",
       "      <td>NaN</td>\n",
       "      <td>1</td>\n",
       "      <td>NaN</td>\n",
       "      <td>6</td>\n",
       "      <td>electronic equipment</td>\n",
       "      <td>1169000</td>\n",
       "      <td>real estate</td>\n",
       "      <td>2</td>\n",
       "      <td>critical/pending loans at other banks</td>\n",
       "      <td>0</td>\n",
       "    </tr>\n",
       "    <tr>\n",
       "      <th>1</th>\n",
       "      <td>22</td>\n",
       "      <td>female</td>\n",
       "      <td>divorced/separated/married</td>\n",
       "      <td>own</td>\n",
       "      <td>1 year</td>\n",
       "      <td>4 years</td>\n",
       "      <td>1</td>\n",
       "      <td>Low</td>\n",
       "      <td>48</td>\n",
       "      <td>electronic equipment</td>\n",
       "      <td>5951000</td>\n",
       "      <td>real estate</td>\n",
       "      <td>1</td>\n",
       "      <td>existing loans paid back duly till now</td>\n",
       "      <td>1</td>\n",
       "    </tr>\n",
       "    <tr>\n",
       "      <th>2</th>\n",
       "      <td>49</td>\n",
       "      <td>male</td>\n",
       "      <td>single</td>\n",
       "      <td>own</td>\n",
       "      <td>4 years</td>\n",
       "      <td>7 years</td>\n",
       "      <td>1</td>\n",
       "      <td>Low</td>\n",
       "      <td>12</td>\n",
       "      <td>education</td>\n",
       "      <td>2096000</td>\n",
       "      <td>real estate</td>\n",
       "      <td>1</td>\n",
       "      <td>critical/pending loans at other banks</td>\n",
       "      <td>0</td>\n",
       "    </tr>\n",
       "    <tr>\n",
       "      <th>3</th>\n",
       "      <td>45</td>\n",
       "      <td>male</td>\n",
       "      <td>single</td>\n",
       "      <td>for free</td>\n",
       "      <td>4 years</td>\n",
       "      <td>7 years</td>\n",
       "      <td>1</td>\n",
       "      <td>Low</td>\n",
       "      <td>42</td>\n",
       "      <td>FF&amp;E</td>\n",
       "      <td>7882000</td>\n",
       "      <td>building society savings agreement/life insurance</td>\n",
       "      <td>1</td>\n",
       "      <td>existing loans paid back duly till now</td>\n",
       "      <td>0</td>\n",
       "    </tr>\n",
       "    <tr>\n",
       "      <th>4</th>\n",
       "      <td>53</td>\n",
       "      <td>male</td>\n",
       "      <td>single</td>\n",
       "      <td>for free</td>\n",
       "      <td>1 year</td>\n",
       "      <td>4 years</td>\n",
       "      <td>1</td>\n",
       "      <td>Low</td>\n",
       "      <td>24</td>\n",
       "      <td>new vehicle</td>\n",
       "      <td>4870000</td>\n",
       "      <td>NaN</td>\n",
       "      <td>2</td>\n",
       "      <td>delay in paying off loans in the past</td>\n",
       "      <td>1</td>\n",
       "    </tr>\n",
       "  </tbody>\n",
       "</table>\n",
       "</div>"
      ],
      "text/plain": [
       "   Primary_applicant_age_in_years  Gender              Marital_status  \\\n",
       "0                              67    male                      single   \n",
       "1                              22  female  divorced/separated/married   \n",
       "2                              49    male                      single   \n",
       "3                              45    male                      single   \n",
       "4                              53    male                      single   \n",
       "\n",
       "    Housing Has_been_employed_for_at_least Has_been_employed_for_at_most  \\\n",
       "0       own                        7 years                           NaN   \n",
       "1       own                         1 year                       4 years   \n",
       "2       own                        4 years                       7 years   \n",
       "3  for free                        4 years                       7 years   \n",
       "4  for free                         1 year                       4 years   \n",
       "\n",
       "   Foreign_worker Savings_account_balance  Months_loan_taken_for  \\\n",
       "0               1                     NaN                      6   \n",
       "1               1                     Low                     48   \n",
       "2               1                     Low                     12   \n",
       "3               1                     Low                     42   \n",
       "4               1                     Low                     24   \n",
       "\n",
       "                Purpose  Principal_loan_amount  \\\n",
       "0  electronic equipment                1169000   \n",
       "1  electronic equipment                5951000   \n",
       "2             education                2096000   \n",
       "3                  FF&E                7882000   \n",
       "4           new vehicle                4870000   \n",
       "\n",
       "                                            Property  \\\n",
       "0                                        real estate   \n",
       "1                                        real estate   \n",
       "2                                        real estate   \n",
       "3  building society savings agreement/life insurance   \n",
       "4                                                NaN   \n",
       "\n",
       "   Number_of_existing_loans_at_this_bank  \\\n",
       "0                                      2   \n",
       "1                                      1   \n",
       "2                                      1   \n",
       "3                                      1   \n",
       "4                                      2   \n",
       "\n",
       "                             Loan_history  high_risk_applicant  \n",
       "0   critical/pending loans at other banks                    0  \n",
       "1  existing loans paid back duly till now                    1  \n",
       "2   critical/pending loans at other banks                    0  \n",
       "3  existing loans paid back duly till now                    0  \n",
       "4   delay in paying off loans in the past                    1  "
      ]
     },
     "execution_count": 7,
     "metadata": {},
     "output_type": "execute_result"
    }
   ],
   "source": [
    "df = df.drop(['applicant_id', 'loan_application_id', 'Telephone', 'Employment_status', 'Other_EMI_plans', \\\n",
    "         'Number_of_dependents', 'Years_at_current_residence', 'EMI_rate_in_percentage_of_disposable_income', \\\n",
    "         'Has_coapplicant', 'Has_guarantor', 'Balance_in_existing_bank_account_(lower_limit_of_bucket)', \\\n",
    "         'Balance_in_existing_bank_account_(upper_limit_of_bucket)'] , axis=1)\n",
    "df.head()"
   ]
  },
  {
   "cell_type": "code",
   "execution_count": 8,
   "id": "8264dcfd",
   "metadata": {},
   "outputs": [
    {
     "data": {
      "text/plain": [
       "(1000, 15)"
      ]
     },
     "execution_count": 8,
     "metadata": {},
     "output_type": "execute_result"
    }
   ],
   "source": [
    "df.shape"
   ]
  },
  {
   "cell_type": "markdown",
   "id": "6d48a184",
   "metadata": {},
   "source": [
    "## Feature Engineering"
   ]
  },
  {
   "cell_type": "markdown",
   "id": "66542de1",
   "metadata": {},
   "source": [
    "### Type of Features"
   ]
  },
  {
   "cell_type": "markdown",
   "id": "85df52e5",
   "metadata": {},
   "source": [
    "**Numeric Features**"
   ]
  },
  {
   "cell_type": "code",
   "execution_count": 9,
   "id": "baff199f",
   "metadata": {},
   "outputs": [
    {
     "name": "stdout",
     "output_type": "stream",
     "text": [
      "Num of Numerical Features : 6\n"
     ]
    },
    {
     "data": {
      "text/plain": [
       "['Primary_applicant_age_in_years',\n",
       " 'Foreign_worker',\n",
       " 'Months_loan_taken_for',\n",
       " 'Principal_loan_amount',\n",
       " 'Number_of_existing_loans_at_this_bank',\n",
       " 'high_risk_applicant']"
      ]
     },
     "execution_count": 9,
     "metadata": {},
     "output_type": "execute_result"
    }
   ],
   "source": [
    "numeric_features = [feature for feature in df.columns if df[feature].dtype != 'O']\n",
    "print('Num of Numerical Features :', len(numeric_features))\n",
    "numeric_features"
   ]
  },
  {
   "cell_type": "markdown",
   "id": "e1107060",
   "metadata": {},
   "source": [
    "**Categorical Features**"
   ]
  },
  {
   "cell_type": "code",
   "execution_count": 10,
   "id": "ff997805",
   "metadata": {},
   "outputs": [
    {
     "name": "stdout",
     "output_type": "stream",
     "text": [
      "Num of Categorical Features : 9\n"
     ]
    },
    {
     "data": {
      "text/plain": [
       "['Gender',\n",
       " 'Marital_status',\n",
       " 'Housing',\n",
       " 'Has_been_employed_for_at_least',\n",
       " 'Has_been_employed_for_at_most',\n",
       " 'Savings_account_balance',\n",
       " 'Purpose',\n",
       " 'Property',\n",
       " 'Loan_history']"
      ]
     },
     "execution_count": 10,
     "metadata": {},
     "output_type": "execute_result"
    }
   ],
   "source": [
    "categorical_features = [feature for feature in df.columns if df[feature].dtype == 'O']\n",
    "print('Num of Categorical Features :', len(categorical_features))\n",
    "categorical_features"
   ]
  },
  {
   "cell_type": "markdown",
   "id": "3ca43676",
   "metadata": {},
   "source": [
    "**Discrete Features**"
   ]
  },
  {
   "cell_type": "code",
   "execution_count": 11,
   "id": "812ee6e0",
   "metadata": {},
   "outputs": [
    {
     "name": "stdout",
     "output_type": "stream",
     "text": [
      "Num of Discrete Features : 3\n"
     ]
    },
    {
     "data": {
      "text/plain": [
       "['Foreign_worker',\n",
       " 'Number_of_existing_loans_at_this_bank',\n",
       " 'high_risk_applicant']"
      ]
     },
     "execution_count": 11,
     "metadata": {},
     "output_type": "execute_result"
    }
   ],
   "source": [
    "discrete_features = [feature for feature in numeric_features if (len(df[feature].unique())<=25)]\n",
    "print('Num of Discrete Features :',len(discrete_features))\n",
    "discrete_features"
   ]
  },
  {
   "cell_type": "markdown",
   "id": "3e6740bf",
   "metadata": {},
   "source": [
    "**Continuous features**"
   ]
  },
  {
   "cell_type": "code",
   "execution_count": 12,
   "id": "e501c72b",
   "metadata": {},
   "outputs": [
    {
     "name": "stdout",
     "output_type": "stream",
     "text": [
      "Num of Continuous Features : 3\n"
     ]
    },
    {
     "data": {
      "text/plain": [
       "['Primary_applicant_age_in_years',\n",
       " 'Months_loan_taken_for',\n",
       " 'Principal_loan_amount']"
      ]
     },
     "execution_count": 12,
     "metadata": {},
     "output_type": "execute_result"
    }
   ],
   "source": [
    "continuous_features = [feature for feature in numeric_features if len(df[feature].unique()) > 25]\n",
    "print('Num of Continuous Features :',len(continuous_features))\n",
    "continuous_features"
   ]
  },
  {
   "cell_type": "markdown",
   "id": "f211b39b",
   "metadata": {},
   "source": [
    "**Handling missing values for categorical features**"
   ]
  },
  {
   "cell_type": "code",
   "execution_count": 13,
   "id": "88cb913c",
   "metadata": {},
   "outputs": [
    {
     "name": "stdout",
     "output_type": "stream",
     "text": [
      "Has_been_employed_for_at_least : 6.2 % missing values\n",
      "Has_been_employed_for_at_most : 25.3 % missing values\n",
      "Savings_account_balance : 18.3 % missing values\n",
      "Purpose : 1.2 % missing values\n",
      "Property : 15.4 % missing values\n"
     ]
    }
   ],
   "source": [
    "# These are the features with nan value\n",
    "features_with_na = [features for features in df.columns if df[features].isnull().sum()>=1]\n",
    "try:\n",
    "    for feature in features_with_na:\n",
    "        print('{} : {} % missing values'.format(feature, np.round(df[feature].isnull().mean()*100,5)))\n",
    "except Exception as e:\n",
    "    print('Error: ', str(e))"
   ]
  },
  {
   "cell_type": "code",
   "execution_count": 14,
   "id": "6318dba6",
   "metadata": {},
   "outputs": [
    {
     "data": {
      "image/png": "[encoded data removed]",
      "text/plain": [
       "<Figure size 864x576 with 5 Axes>"
      ]
     },
     "metadata": {
      "needs_background": "light"
     },
     "output_type": "display_data"
    }
   ],
   "source": [
    "# Compute the frequency with every feature --\n",
    "plt.figure(figsize=(12, 8))\n",
    "plt.suptitle('Frequency of the features', fontsize=22, fontweight='bold')\n",
    "\n",
    "# Adjusting space between/among subplots\n",
    "plt.subplots_adjust(hspace=0.2)\n",
    "\n",
    "for i in range(0, len(features_with_na)):\n",
    "    plt.subplot(3, 2, i+1)\n",
    "    sb.countplot(x=df[features_with_na[i]])\n",
    "    plt.xlabel(features_with_na[i])\n",
    "    plt.tight_layout()\n",
    "    \n",
    "# save plot\n",
    "# plt.savefig('./images/Univariate_Cat.png')"
   ]
  },
  {
   "cell_type": "code",
   "execution_count": 15,
   "id": "8e33fd21",
   "metadata": {},
   "outputs": [],
   "source": [
    "# Handling missing values with most_frequent_category --\n",
    "def impute_nan(df, variable):\n",
    "    try:\n",
    "        most_frequent_category = df[variable].mode()[0]\n",
    "        df[variable] = df[variable].fillna(most_frequent_category)\n",
    "        return df\n",
    "    except Exception as e:\n",
    "        print('Error: ', str(e))\n",
    "        \n",
    "for feature in features_with_na:\n",
    "    impute_nan(df, feature)"
   ]
  },
  {
   "cell_type": "markdown",
   "id": "c1dedda3",
   "metadata": {},
   "source": [
    "**Imputing Null Values to Check VIF(Multi-Collinearity)**"
   ]
  },
  {
   "cell_type": "code",
   "execution_count": 16,
   "id": "0d745af3",
   "metadata": {},
   "outputs": [],
   "source": [
    "# Create copy of dataframe to check variance inflation factor\n",
    "df1 = df.copy()\n",
    "try:\n",
    "    for i in continuous_features:\n",
    "        df1[i].fillna(df1[i].median(), inplace=True)\n",
    "except Exception as e:\n",
    "    print('Error: ', str(e))"
   ]
  },
  {
   "cell_type": "markdown",
   "id": "7a9c40c8",
   "metadata": {},
   "source": [
    "### Multicollinearity Check\n",
    "#### Variance Inflation Factor (VIF)"
   ]
  },
  {
   "cell_type": "markdown",
   "id": "bcc04f4d",
   "metadata": {},
   "source": [
    "* Multicollinearity occurs when there are two or more independent variables in a multiple regression model, which have a high correlation among themselves. When some features are highly correlated.\n",
    "* Multicollinearity can be detected using various techniques, one such technique being the Variance Inflation Factor(VIF)."
   ]
  },
  {
   "cell_type": "code",
   "execution_count": 17,
   "id": "747d9a82",
   "metadata": {},
   "outputs": [],
   "source": [
    "from statsmodels.stats.outliers_influence import variance_inflation_factor\n",
    "\n",
    "class MultiColliniarity:\n",
    "    \n",
    "    def __init__(self):\n",
    "        pass\n",
    "    \n",
    "    def compute_vif(self, considered_features, df):\n",
    "        try:\n",
    "            X = df[considered_features]\n",
    "            # the calculation of variance inflation requires a constant\n",
    "            X['intercept'] = 1\n",
    "\n",
    "            # create dataframe to store vif values\n",
    "            vif = pd.DataFrame()\n",
    "            vif[\"Variable\"] = X.columns\n",
    "            vif[\"VIF\"] = [variance_inflation_factor(X.values, i) for i in range(X.shape[1])]\n",
    "            vif = vif[vif['Variable']!='intercept']\n",
    "            return vif\n",
    "        except Exception as e:\n",
    "            print('Error: ', str(e))"
   ]
  },
  {
   "cell_type": "code",
   "execution_count": 18,
   "id": "6ec9f029",
   "metadata": {},
   "outputs": [
    {
     "data": {
      "text/html": [
       "<div>\n",
       "<style scoped>\n",
       "    .dataframe tbody tr th:only-of-type {\n",
       "        vertical-align: middle;\n",
       "    }\n",
       "\n",
       "    .dataframe tbody tr th {\n",
       "        vertical-align: top;\n",
       "    }\n",
       "\n",
       "    .dataframe thead th {\n",
       "        text-align: right;\n",
       "    }\n",
       "</style>\n",
       "<table border=\"1\" class=\"dataframe\">\n",
       "  <thead>\n",
       "    <tr style=\"text-align: right;\">\n",
       "      <th></th>\n",
       "      <th>Variable</th>\n",
       "      <th>VIF</th>\n",
       "    </tr>\n",
       "  </thead>\n",
       "  <tbody>\n",
       "    <tr>\n",
       "      <th>0</th>\n",
       "      <td>Primary_applicant_age_in_years</td>\n",
       "      <td>1.006365</td>\n",
       "    </tr>\n",
       "    <tr>\n",
       "      <th>1</th>\n",
       "      <td>Months_loan_taken_for</td>\n",
       "      <td>1.649649</td>\n",
       "    </tr>\n",
       "    <tr>\n",
       "      <th>2</th>\n",
       "      <td>Principal_loan_amount</td>\n",
       "      <td>1.649260</td>\n",
       "    </tr>\n",
       "  </tbody>\n",
       "</table>\n",
       "</div>"
      ],
      "text/plain": [
       "                         Variable       VIF\n",
       "0  Primary_applicant_age_in_years  1.006365\n",
       "1           Months_loan_taken_for  1.649649\n",
       "2           Principal_loan_amount  1.649260"
      ]
     },
     "execution_count": 18,
     "metadata": {},
     "output_type": "execute_result"
    }
   ],
   "source": [
    "MultiColliniarity = MultiColliniarity()\n",
    "MultiColliniarity.compute_vif(continuous_features, df1)"
   ]
  },
  {
   "cell_type": "markdown",
   "id": "482cfb4c",
   "metadata": {},
   "source": [
    " ” VIF determines the strength of the correlation between the independent variables. It is predicted by taking a variable and regressing it against every other variable “ \n",
    "\n",
    "VIF above 5 is indicator of Multicollinearity  \n",
    "\n",
    "**- This Dataset Doesnt have any Multicollinearity**"
   ]
  },
  {
   "cell_type": "markdown",
   "id": "d234a954",
   "metadata": {},
   "source": [
    "### Check Outlier and Capping it"
   ]
  },
  {
   "cell_type": "markdown",
   "id": "29b1ab3b",
   "metadata": {},
   "source": [
    "**Why outliers?**\n",
    "* Data Entry error : Human error. \n",
    "* Measurement error: Instrument error. \n",
    "* Natural error: it will be Real life data.\n",
    "* Intentional error: People give wrong inputs\n",
    "\n",
    "**Impact of Outliers ?**\n",
    "* Ouliers can very high impact on few Machine learning models.\n",
    "* Can Cause bias in the output."
   ]
  },
  {
   "cell_type": "code",
   "execution_count": 19,
   "id": "8e580ec1",
   "metadata": {},
   "outputs": [
    {
     "data": {
      "image/png": "[encoded data removed]",
      "text/plain": [
       "<Figure size 720x216 with 1 Axes>"
      ]
     },
     "metadata": {
      "needs_background": "light"
     },
     "output_type": "display_data"
    },
    {
     "data": {
      "image/png": "[encoded data removed]",
      "text/plain": [
       "<Figure size 720x216 with 1 Axes>"
      ]
     },
     "metadata": {},
     "output_type": "display_data"
    },
    {
     "data": {
      "image/png": "[encoded data removed]",
      "text/plain": [
       "<Figure size 720x216 with 1 Axes>"
      ]
     },
     "metadata": {},
     "output_type": "display_data"
    }
   ],
   "source": [
    "for i in continuous_features:\n",
    "    plt.figure(figsize=(10, 3))\n",
    "    sb.set_style('ticks')\n",
    "    ax = sb.boxplot(df[i])"
   ]
  },
  {
   "cell_type": "markdown",
   "id": "b2c78731",
   "metadata": {},
   "source": [
    "**Standard deviation method For Outlier Handling?**"
   ]
  },
  {
   "cell_type": "markdown",
   "id": "d1f7c760",
   "metadata": {},
   "source": [
    "- Outlier removal using standard deviation procedure.\n",
    "- Usually z-score =3 is considered as a cut-off value to set the limit. Therefore, any z-score greater than +3 or less than -3 is considered as outlier which is pretty much similar to standard deviation method.\n",
    "- Here we can remove outliers after 3rd standard deviation or z-score +3 and -3. used to remove only extreme outlier points"
   ]
  },
  {
   "cell_type": "code",
   "execution_count": 20,
   "id": "45fedab7",
   "metadata": {},
   "outputs": [],
   "source": [
    "def outlier_removal(column, df):\n",
    "    try:\n",
    "        upper_limit = df[column].mean() + 3*df[column].std()\n",
    "        lower_limit = df[column].mean() - 3*df[column].std()\n",
    "        df = df[(df[column] < upper_limit) & (df[column] > lower_limit)]\n",
    "        return df\n",
    "    except Exception as e:\n",
    "        print('Error: ', str(e))"
   ]
  },
  {
   "cell_type": "code",
   "execution_count": 21,
   "id": "c233b8ff",
   "metadata": {},
   "outputs": [
    {
     "name": "stdout",
     "output_type": "stream",
     "text": [
      "shape before outlier removal: (1000, 15)\n"
     ]
    }
   ],
   "source": [
    "print('shape before outlier removal: {}'.format(df.shape))"
   ]
  },
  {
   "cell_type": "code",
   "execution_count": 22,
   "id": "03a89ff1",
   "metadata": {},
   "outputs": [],
   "source": [
    "outlier_feature = ['Primary_applicant_age_in_years', 'Months_loan_taken_for', 'Principal_loan_amount']\n",
    "\n",
    "for i in range(len(outlier_feature)):\n",
    "    df = outlier_removal(outlier_feature[i], df)"
   ]
  },
  {
   "cell_type": "code",
   "execution_count": 23,
   "id": "de1cf3a9",
   "metadata": {
    "scrolled": false
   },
   "outputs": [
    {
     "data": {
      "image/png": "[encoded data removed]",
      "text/plain": [
       "<Figure size 720x216 with 1 Axes>"
      ]
     },
     "metadata": {},
     "output_type": "display_data"
    },
    {
     "data": {
      "image/png": "[encoded data removed]",
      "text/plain": [
       "<Figure size 720x216 with 1 Axes>"
      ]
     },
     "metadata": {},
     "output_type": "display_data"
    },
    {
     "data": {
      "image/png": "[encoded data removed]",
      "text/plain": [
       "<Figure size 720x216 with 1 Axes>"
      ]
     },
     "metadata": {},
     "output_type": "display_data"
    }
   ],
   "source": [
    "for i in continuous_features:\n",
    "    plt.figure(figsize=(10, 3))\n",
    "    sb.set_style('ticks')\n",
    "    ax = sb.boxplot(df[i])"
   ]
  },
  {
   "cell_type": "code",
   "execution_count": 24,
   "id": "ecdc226a",
   "metadata": {},
   "outputs": [
    {
     "name": "stdout",
     "output_type": "stream",
     "text": [
      "shape after outlier removal: (955, 15)\n"
     ]
    }
   ],
   "source": [
    "print('shape after outlier removal: {}'.format(df.shape))"
   ]
  },
  {
   "cell_type": "markdown",
   "id": "ca2d817d",
   "metadata": {},
   "source": [
    "## Feature Transformation"
   ]
  },
  {
   "cell_type": "code",
   "execution_count": 25,
   "id": "a9d716af",
   "metadata": {},
   "outputs": [
    {
     "data": {
      "text/plain": [
       "Primary_applicant_age_in_years    0.920199\n",
       "Months_loan_taken_for             0.906375\n",
       "Principal_loan_amount             1.451907\n",
       "dtype: float64"
      ]
     },
     "execution_count": 25,
     "metadata": {},
     "output_type": "execute_result"
    }
   ],
   "source": [
    "df[continuous_features].skew(axis=0)"
   ]
  },
  {
   "cell_type": "markdown",
   "id": "1786c0ad",
   "metadata": {},
   "source": [
    "* **If Skewness is above 2 then the feature is Highly skewed**\n",
    "* **If Skewness is above 1.5 then the feature is Moderately skewed**"
   ]
  },
  {
   "cell_type": "code",
   "execution_count": 26,
   "id": "a921c3a0",
   "metadata": {
    "scrolled": false
   },
   "outputs": [
    {
     "data": {
      "image/png": "[encoded data removed]",
      "text/plain": [
       "<Figure size 864x432 with 3 Axes>"
      ]
     },
     "metadata": {},
     "output_type": "display_data"
    }
   ],
   "source": [
    "# distribution of data before scaling\n",
    "plt.figure(figsize=(12, 6))\n",
    "for i, col in enumerate(continuous_features):\n",
    "    plt.subplot(2, 2, i+1)\n",
    "    sb.kdeplot(x=df1[col], color='indianred')\n",
    "    plt.xlabel(col)\n",
    "    plt.tight_layout()"
   ]
  },
  {
   "cell_type": "markdown",
   "id": "e956e76d",
   "metadata": {},
   "source": [
    "- **All these seems slightly right skewed**"
   ]
  },
  {
   "cell_type": "markdown",
   "id": "5a2cf140",
   "metadata": {},
   "source": [
    "### Split dataset"
   ]
  },
  {
   "cell_type": "code",
   "execution_count": 27,
   "id": "606bd5ec",
   "metadata": {},
   "outputs": [
    {
     "name": "stdout",
     "output_type": "stream",
     "text": [
      "Independent features X_shape:  (955, 14)\n",
      "dependent feature y_shape:  (955,)\n"
     ]
    }
   ],
   "source": [
    "# Splitting the dataset into independent & dependent feature. \n",
    "X= df.drop('high_risk_applicant', axis=1)   # Independent features\n",
    "y= df['high_risk_applicant']                # dependent feature\n",
    "\n",
    "print('Independent features X_shape: ', X.shape)\n",
    "print('dependent feature y_shape: ', y.shape)"
   ]
  },
  {
   "cell_type": "markdown",
   "id": "9455c01a",
   "metadata": {},
   "source": [
    "* **Split Dataframe to X and y**\n",
    "* **Here we set a variable X i.e, independent columns, and a variable y i.e, dependent column as the `high_risk_applicant` column.**\n"
   ]
  },
  {
   "cell_type": "code",
   "execution_count": 28,
   "id": "00e06fc4",
   "metadata": {},
   "outputs": [
    {
     "name": "stdout",
     "output_type": "stream",
     "text": [
      "Gender : 2\n",
      "Marital_status : 4\n",
      "Housing : 3\n",
      "Has_been_employed_for_at_least : 4\n",
      "Has_been_employed_for_at_most : 4\n",
      "Savings_account_balance : 4\n",
      "Purpose : 9\n",
      "Property : 3\n",
      "Loan_history : 5\n"
     ]
    }
   ],
   "source": [
    "for feature in categorical_features:\n",
    "    print(feature,':', X[feature].nunique())"
   ]
  },
  {
   "cell_type": "markdown",
   "id": "51a3853d",
   "metadata": {},
   "source": [
    "## Feature Encoding and Scaling"
   ]
  },
  {
   "cell_type": "markdown",
   "id": "068b40d3",
   "metadata": {},
   "source": [
    "**Feature `Savings_account_balance` is a kind of ordinal categorical feature, where order of sequence matter.**"
   ]
  },
  {
   "cell_type": "code",
   "execution_count": 29,
   "id": "3ffddd63",
   "metadata": {},
   "outputs": [
    {
     "data": {
      "text/plain": [
       "{'Low': 0, 'Medium': 1, 'High': 2, 'Very high': 3}"
      ]
     },
     "execution_count": 29,
     "metadata": {},
     "output_type": "execute_result"
    }
   ],
   "source": [
    "Savings_account_balance_ordinal = {'Low':0, 'Medium':1, 'High':2, 'Very high':3}\n",
    "Savings_account_balance_ordinal"
   ]
  },
  {
   "cell_type": "code",
   "execution_count": 30,
   "id": "eddee0f0",
   "metadata": {},
   "outputs": [],
   "source": [
    "X['Savings_account_balance'] = X['Savings_account_balance'].map(Savings_account_balance_ordinal)"
   ]
  },
  {
   "cell_type": "markdown",
   "id": "1a4ed2ee",
   "metadata": {},
   "source": [
    "**Feature `Purpose` have many categories, however order doesn't matter, hence we will use Label Encoding to convert this categorical feature into numerical.**"
   ]
  },
  {
   "cell_type": "code",
   "execution_count": 31,
   "id": "1d0c360c",
   "metadata": {},
   "outputs": [],
   "source": [
    "# Label Encoding\n",
    "def le_ordinal(df, le_feature):\n",
    "    try:\n",
    "        df[feature] = le.fit_transform(df[feature])\n",
    "        return df\n",
    "    except Exception as e:\n",
    "        print('Error: ', str(e))\n",
    "\n",
    "\n",
    "# LabelEncoder\n",
    "le = LabelEncoder()\n",
    "le_features = ['Purpose']\n",
    "\n",
    "for feature in le_features:\n",
    "    le_ordinal(X, feature)"
   ]
  },
  {
   "cell_type": "code",
   "execution_count": 32,
   "id": "a293c257",
   "metadata": {},
   "outputs": [
    {
     "data": {
      "text/html": [
       "<div>\n",
       "<style scoped>\n",
       "    .dataframe tbody tr th:only-of-type {\n",
       "        vertical-align: middle;\n",
       "    }\n",
       "\n",
       "    .dataframe tbody tr th {\n",
       "        vertical-align: top;\n",
       "    }\n",
       "\n",
       "    .dataframe thead th {\n",
       "        text-align: right;\n",
       "    }\n",
       "</style>\n",
       "<table border=\"1\" class=\"dataframe\">\n",
       "  <thead>\n",
       "    <tr style=\"text-align: right;\">\n",
       "      <th></th>\n",
       "      <th>Primary_applicant_age_in_years</th>\n",
       "      <th>Gender</th>\n",
       "      <th>Marital_status</th>\n",
       "      <th>Housing</th>\n",
       "      <th>Has_been_employed_for_at_least</th>\n",
       "      <th>Has_been_employed_for_at_most</th>\n",
       "      <th>Foreign_worker</th>\n",
       "      <th>Savings_account_balance</th>\n",
       "      <th>Months_loan_taken_for</th>\n",
       "      <th>Purpose</th>\n",
       "      <th>Principal_loan_amount</th>\n",
       "      <th>Property</th>\n",
       "      <th>Number_of_existing_loans_at_this_bank</th>\n",
       "      <th>Loan_history</th>\n",
       "    </tr>\n",
       "  </thead>\n",
       "  <tbody>\n",
       "    <tr>\n",
       "      <th>0</th>\n",
       "      <td>67</td>\n",
       "      <td>male</td>\n",
       "      <td>single</td>\n",
       "      <td>own</td>\n",
       "      <td>7 years</td>\n",
       "      <td>4 years</td>\n",
       "      <td>1</td>\n",
       "      <td>0</td>\n",
       "      <td>6</td>\n",
       "      <td>5</td>\n",
       "      <td>1169000</td>\n",
       "      <td>real estate</td>\n",
       "      <td>2</td>\n",
       "      <td>critical/pending loans at other banks</td>\n",
       "    </tr>\n",
       "    <tr>\n",
       "      <th>1</th>\n",
       "      <td>22</td>\n",
       "      <td>female</td>\n",
       "      <td>divorced/separated/married</td>\n",
       "      <td>own</td>\n",
       "      <td>1 year</td>\n",
       "      <td>4 years</td>\n",
       "      <td>1</td>\n",
       "      <td>0</td>\n",
       "      <td>48</td>\n",
       "      <td>5</td>\n",
       "      <td>5951000</td>\n",
       "      <td>real estate</td>\n",
       "      <td>1</td>\n",
       "      <td>existing loans paid back duly till now</td>\n",
       "    </tr>\n",
       "  </tbody>\n",
       "</table>\n",
       "</div>"
      ],
      "text/plain": [
       "   Primary_applicant_age_in_years  Gender              Marital_status Housing  \\\n",
       "0                              67    male                      single     own   \n",
       "1                              22  female  divorced/separated/married     own   \n",
       "\n",
       "  Has_been_employed_for_at_least Has_been_employed_for_at_most  \\\n",
       "0                        7 years                       4 years   \n",
       "1                         1 year                       4 years   \n",
       "\n",
       "   Foreign_worker  Savings_account_balance  Months_loan_taken_for  Purpose  \\\n",
       "0               1                        0                      6        5   \n",
       "1               1                        0                     48        5   \n",
       "\n",
       "   Principal_loan_amount     Property  Number_of_existing_loans_at_this_bank  \\\n",
       "0                1169000  real estate                                      2   \n",
       "1                5951000  real estate                                      1   \n",
       "\n",
       "                             Loan_history  \n",
       "0   critical/pending loans at other banks  \n",
       "1  existing loans paid back duly till now  "
      ]
     },
     "execution_count": 32,
     "metadata": {},
     "output_type": "execute_result"
    }
   ],
   "source": [
    "X.head(2)"
   ]
  },
  {
   "cell_type": "markdown",
   "id": "29dbaf2d",
   "metadata": {},
   "source": [
    " **One Hot Encoding for Columns which had lesser unique values and not ordinal**\n",
    "* One hot encoding is a process by which categorical variables are converted into a form that could be provided to ML algorithms to do a better job in prediction."
   ]
  },
  {
   "cell_type": "code",
   "execution_count": 33,
   "id": "d0353dca",
   "metadata": {
    "scrolled": true
   },
   "outputs": [
    {
     "name": "stdout",
     "output_type": "stream",
     "text": [
      "Primary_applicant_age_in_years: mean = 35.22, median = 33.00\n",
      "Months_loan_taken_for: mean = 20.03, median = 18.00\n",
      "Principal_loan_amount: mean = 2916952.88, median = 2235000.00\n"
     ]
    }
   ],
   "source": [
    "for i in continuous_features:\n",
    "    print(f'{i}: mean = {df[i].mean():.2f}, median = {df[i].median():.2f}')"
   ]
  },
  {
   "cell_type": "markdown",
   "id": "bcec9239",
   "metadata": {},
   "source": [
    "- There are no missing values in continuous_features. "
   ]
  },
  {
   "cell_type": "markdown",
   "id": "1c240cad",
   "metadata": {},
   "source": [
    "* **Mean imputer:** Since we handeled outlier for the continuous features, the mean and median of the features are nearly same. When there are no outliers mean performs an a better imputer.\n",
    "* **Standardscaler:** As the features distribution are nearly normal we use standard scaler.\n",
    "* **Power Transformer:** Since features (`Primary_applicant_age_in_years`, `Months_loan_taken_for`, `Principal_loan_amount`) are skewed, we use Power Transformer on them."
   ]
  },
  {
   "cell_type": "code",
   "execution_count": 34,
   "id": "c1819cbf",
   "metadata": {},
   "outputs": [],
   "source": [
    "# Create Column Transformer with 3 types of transformers\n",
    "categorical_features = X.select_dtypes(include=\"object\").columns\n",
    "num_feature = numeric_features.copy()\n",
    "num_feature.remove('high_risk_applicant')\n",
    "transform_features=['Primary_applicant_age_in_years', 'Months_loan_taken_for', 'Principal_loan_amount']"
   ]
  },
  {
   "cell_type": "code",
   "execution_count": 35,
   "id": "348ccd3f",
   "metadata": {},
   "outputs": [],
   "source": [
    "# from sklearn.preprocessing import OneHotEncoder, StandardScaler, PowerTransformer\n",
    "# from sklearn.compose import ColumnTransformer\n",
    "# from sklearn.pipeline import Pipeline\n",
    "# from sklearn.impute import SimpleImputer\n",
    "\n",
    "numeric_pipeline = Pipeline(steps=[('imputer', SimpleImputer(strategy='median')),\n",
    "                                   ('scaler', StandardScaler())])\n",
    "categorical_pipeline = Pipeline(steps=[('one_hot_encoder', OneHotEncoder()), \n",
    "                                       ('scaler', StandardScaler(with_mean=False))])\n",
    "transform_pipe = Pipeline(steps=[('transformer', PowerTransformer(standardize=True))])\n",
    "\n",
    "preprocessor = ColumnTransformer([(\"numeric_Pipeline\", numeric_pipeline, num_feature), \n",
    "                                  (\"Categorical_Pipeline\", categorical_pipeline, categorical_features), \n",
    "                                  (\"Power_Transformation\", transform_pipe, transform_features)])"
   ]
  },
  {
   "cell_type": "code",
   "execution_count": 36,
   "id": "073fea39",
   "metadata": {},
   "outputs": [],
   "source": [
    "X = preprocessor.fit_transform(X)"
   ]
  },
  {
   "cell_type": "markdown",
   "id": "b0cb1742",
   "metadata": {},
   "source": [
    "## Handling Imbalanced Dataset"
   ]
  },
  {
   "cell_type": "markdown",
   "id": "4110b6b4",
   "metadata": {},
   "source": [
    "* Handling Imbalanced Target Variable.\n",
    "* Synthetic Minority Oversampling Technique or SMOTE is another technique to oversample the minority class. Simply adding duplicate records of minority class often don’t add any new information to the model.\n",
    "\n",
    "\n",
    "* SMOTE is one of the famous oversampling techniques and is very effective in handling class imbalance. The idea is to combine SMOTE with some undersampling techniques (ENN, Tomek) to increase the effectiveness of handling the imbalanced class."
   ]
  },
  {
   "cell_type": "markdown",
   "id": "f3741fc1",
   "metadata": {},
   "source": [
    " **SMOTE+ENN** is one of such a hybrid technique that aims to clean overlapping data points for each of the classes distributed in sample space.\n",
    " \n",
    "This method combines the SMOTE ability to generate synthetic data for minority class and uses ENN to remove overlapping observation of both the classes\n",
    " \n",
    " - **To add new data of minority class**\n",
    " 1. Choose random data from the minority class.\n",
    " 2. Calculate the distance between the random data and its k nearest neighbors.\n",
    " 3. Multiply the difference with a random number between 0 and 1, then add the result to the minority class as a synthetic sample.\n",
    " 4. Repeat step number 2–3 until the desired proportion of minority class is met.\n",
    " \n",
    " - **To remove the data points of both classes**\n",
    " 1. Determine K, as the number of nearest neighbors. If not determined, then K=3.\n",
    " 2. Find the K-nearest neighbor of the observation among the other observations in the dataset, then return the majority class from the K-nearest neighbor.\n",
    " 3. If the class of the observation and the majority class from the observation’s K-nearest neighbor is different, then the observation and its K-nearest neighbor are deleted from the dataset.\n",
    " 4. Repeat step 2 and 3 until the desired proportion of each class is fulfilled.\n",
    " \n",
    " - This is method instead of adding duplicate data it synthesises the new data based on the already avalialble classes. Hence we choose this as our imputer method for this problem."
   ]
  },
  {
   "cell_type": "code",
   "execution_count": 37,
   "id": "fde0c1c7",
   "metadata": {},
   "outputs": [],
   "source": [
    "from imblearn.combine import SMOTETomek, SMOTEENN\n",
    "\n",
    "# Resampling the minority class. The strategy can be changed as required.\n",
    "smt = SMOTEENN(random_state=42, sampling_strategy='minority' )\n",
    "# Fit the model to generate the data.\n",
    "X_res, y_res = smt.fit_resample(X, y)"
   ]
  },
  {
   "cell_type": "markdown",
   "id": "d81b9eaa",
   "metadata": {},
   "source": [
    "## Model Selection\n",
    "\n",
    "\n",
    "* **Here should understand the Various Classification models with default values from these models we can choose top 4 with Highest Accuracy score and proceed with HyperParameter Tuning**"
   ]
  },
  {
   "cell_type": "markdown",
   "id": "91bcc975",
   "metadata": {},
   "source": [
    "## Train Test Split"
   ]
  },
  {
   "cell_type": "markdown",
   "id": "dbdad979",
   "metadata": {},
   "source": [
    "* The train-test split procedure is used to estimate the performance of machine learning algorithms when they are used to make predictions on data not used to train the model.\n",
    "\n",
    "* It is a fast and easy procedure to perform, the results of which allow you to compare the performance of machine learning algorithms."
   ]
  },
  {
   "cell_type": "markdown",
   "id": "8b9e9fab",
   "metadata": {},
   "source": [
    "**Import Required packages for model training**"
   ]
  },
  {
   "cell_type": "code",
   "execution_count": 38,
   "id": "d82663ae",
   "metadata": {},
   "outputs": [],
   "source": [
    "from sklearn.ensemble import RandomForestClassifier, GradientBoostingClassifier, AdaBoostClassifier\n",
    "from sklearn.linear_model import LogisticRegression\n",
    "from sklearn.neighbors import KNeighborsClassifier\n",
    "from xgboost import XGBClassifier\n",
    "\n",
    "from sklearn.metrics import accuracy_score, classification_report, ConfusionMatrixDisplay, \\\n",
    "                            precision_score, recall_score, f1_score, roc_auc_score, roc_curve "
   ]
  },
  {
   "cell_type": "code",
   "execution_count": 39,
   "id": "294493fc",
   "metadata": {},
   "outputs": [],
   "source": [
    "def evaluate_clf(true, predicted):\n",
    "    try:\n",
    "        acc = accuracy_score(true, predicted)        # Calculate Accuracy\n",
    "        f1 = f1_score(true, predicted)               # Calculate F1-score\n",
    "        precision = precision_score(true, predicted) # Calculate Precision\n",
    "        recall = recall_score(true, predicted)       # Calculate Recall\n",
    "        roc_auc = roc_auc_score(true, predicted)     #Calculate Roc\n",
    "        return acc, f1 , precision, recall, roc_auc\n",
    "    except Exception as e:\n",
    "        print('Error: ', str(e))"
   ]
  },
  {
   "cell_type": "code",
   "execution_count": 40,
   "id": "64be7b35",
   "metadata": {
    "scrolled": false
   },
   "outputs": [],
   "source": [
    "# Initialize models which are required for models\n",
    "models = {\"Random Forest\": RandomForestClassifier(),\n",
    "          \"Gradient Boosting\": GradientBoostingClassifier(), \n",
    "          \"Logistic Regression\": LogisticRegression(), \n",
    "          \"K-Neighbors Classifier\": KNeighborsClassifier(), \n",
    "          \"XGBClassifier\": XGBClassifier(), \n",
    "          \"AdaBoost Classifier\": AdaBoostClassifier()}"
   ]
  },
  {
   "cell_type": "markdown",
   "id": "1c9a8317",
   "metadata": {},
   "source": [
    "- Here we are not considering SVM & Decision Tree because -\n",
    "  - SVM is time consuming.\n",
    "  - Decision Tree have overfitting problem & already using ensemble techniques for better performance."
   ]
  },
  {
   "cell_type": "code",
   "execution_count": 41,
   "id": "160d97b1",
   "metadata": {},
   "outputs": [],
   "source": [
    "# Create a function which can evaluate models and return a report \n",
    "def evaluate_models(X, y, models):\n",
    "    '''\n",
    "    This function takes in X and y and models dictionary as input.\n",
    "    It splits the data into Train Test split.\n",
    "    Iterates through the given model dictionary and evaluates the metrics.\n",
    "    Returns: Dataframe which contains report of all models metrics with cost.\n",
    "    '''\n",
    "    # separate dataset into train and test\n",
    "    # from sklearn.model_selection import train_test_split\n",
    "    X_train, X_test, y_train, y_test = train_test_split(X, y, test_size=0.2, random_state=42)\n",
    "    \n",
    "    models_list, accuracy_list, auc = [], [], []\n",
    "\n",
    "    try:\n",
    "        for i in range(len(list(models))):\n",
    "            model = list(models.values())[i]\n",
    "            model.fit(X_train, y_train) # Train model\n",
    "\n",
    "            # Make predictions\n",
    "            y_train_pred = model.predict(X_train)\n",
    "            y_test_pred = model.predict(X_test)\n",
    "\n",
    "            # Training set performance\n",
    "            model_train_accuracy, model_train_f1, model_train_precision,\\\n",
    "            model_train_recall, model_train_rocauc_score = evaluate_clf(y_train ,y_train_pred)\n",
    "\n",
    "            # Test set performance\n",
    "            model_test_accuracy,model_test_f1,model_test_precision,\\\n",
    "            model_test_recall,model_test_rocauc_score=evaluate_clf(y_test, y_test_pred)\n",
    "\n",
    "            print(list(models.keys())[i])\n",
    "            models_list.append(list(models.keys())[i])\n",
    "\n",
    "            print('Model performance for Training set')\n",
    "            print(\"- Accuracy: {:.4f}\".format(model_train_accuracy))\n",
    "            print('- F1 score: {:.4f}'.format(model_train_f1)) \n",
    "            print('- Precision: {:.4f}'.format(model_train_precision))\n",
    "            print('- Recall: {:.4f}'.format(model_train_recall))\n",
    "            print('- Roc Auc Score: {:.4f}'.format(model_train_rocauc_score))\n",
    "\n",
    "            print('--'*50)\n",
    "\n",
    "            print('Model performance for Test set')\n",
    "            print('- Accuracy: {:.4f}'.format(model_test_accuracy))\n",
    "            accuracy_list.append(model_test_accuracy)\n",
    "            print('- F1 score: {:.4f}'.format(model_test_f1))\n",
    "            print('- Precision: {:.4f}'.format(model_test_precision))\n",
    "            print('- Recall: {:.4f}'.format(model_test_recall))\n",
    "            print('- Roc Auc Score: {:.4f}'.format(model_test_rocauc_score))\n",
    "            auc.append(model_test_rocauc_score)\n",
    "            print('=='*50)\n",
    "            print('\\n')\n",
    "\n",
    "        report=pd.DataFrame(list(zip(models_list, accuracy_list)), columns=['Model Name', 'Accuracy']).sort_values(by=['Accuracy'], ascending=False)\n",
    "\n",
    "        return report\n",
    "    \n",
    "    except Exception as e:\n",
    "        print('Error: ', str(e))"
   ]
  },
  {
   "cell_type": "markdown",
   "id": "aaa19227",
   "metadata": {},
   "source": [
    "## Evaluate all base Models"
   ]
  },
  {
   "cell_type": "code",
   "execution_count": 42,
   "id": "b7ef5afc",
   "metadata": {
    "scrolled": false
   },
   "outputs": [
    {
     "name": "stdout",
     "output_type": "stream",
     "text": [
      "Random Forest\n",
      "Model performance for Training set\n",
      "- Accuracy: 1.0000\n",
      "- F1 score: 1.0000\n",
      "- Precision: 1.0000\n",
      "- Recall: 1.0000\n",
      "- Roc Auc Score: 1.0000\n",
      "----------------------------------------------------------------------------------------------------\n",
      "Model performance for Test set\n",
      "- Accuracy: 0.8741\n",
      "- F1 score: 0.8816\n",
      "- Precision: 0.8590\n",
      "- Recall: 0.9054\n",
      "- Roc Auc Score: 0.8730\n",
      "====================================================================================================\n",
      "\n",
      "\n",
      "Gradient Boosting\n",
      "Model performance for Training set\n",
      "- Accuracy: 0.9683\n",
      "- F1 score: 0.9726\n",
      "- Precision: 0.9639\n",
      "- Recall: 0.9816\n",
      "- Roc Auc Score: 0.9660\n",
      "----------------------------------------------------------------------------------------------------\n",
      "Model performance for Test set\n",
      "- Accuracy: 0.8462\n",
      "- F1 score: 0.8608\n",
      "- Precision: 0.8095\n",
      "- Recall: 0.9189\n",
      "- Roc Auc Score: 0.8435\n",
      "====================================================================================================\n",
      "\n",
      "\n",
      "Logistic Regression\n",
      "Model performance for Training set\n",
      "- Accuracy: 0.8433\n",
      "- F1 score: 0.8678\n",
      "- Precision: 0.8415\n",
      "- Recall: 0.8957\n",
      "- Roc Auc Score: 0.8342\n",
      "----------------------------------------------------------------------------------------------------\n",
      "Model performance for Test set\n",
      "- Accuracy: 0.7273\n",
      "- F1 score: 0.7547\n",
      "- Precision: 0.7059\n",
      "- Recall: 0.8108\n",
      "- Roc Auc Score: 0.7242\n",
      "====================================================================================================\n",
      "\n",
      "\n",
      "K-Neighbors Classifier\n",
      "Model performance for Training set\n",
      "- Accuracy: 0.9613\n",
      "- F1 score: 0.9669\n",
      "- Precision: 0.9497\n",
      "- Recall: 0.9847\n",
      "- Roc Auc Score: 0.9572\n",
      "----------------------------------------------------------------------------------------------------\n",
      "Model performance for Test set\n",
      "- Accuracy: 0.8951\n",
      "- F1 score: 0.9020\n",
      "- Precision: 0.8734\n",
      "- Recall: 0.9324\n",
      "- Roc Auc Score: 0.8938\n",
      "====================================================================================================\n",
      "\n",
      "\n",
      "XGBClassifier\n",
      "Model performance for Training set\n",
      "- Accuracy: 1.0000\n",
      "- F1 score: 1.0000\n",
      "- Precision: 1.0000\n",
      "- Recall: 1.0000\n",
      "- Roc Auc Score: 1.0000\n",
      "----------------------------------------------------------------------------------------------------\n",
      "Model performance for Test set\n",
      "- Accuracy: 0.8392\n",
      "- F1 score: 0.8497\n",
      "- Precision: 0.8228\n",
      "- Recall: 0.8784\n",
      "- Roc Auc Score: 0.8377\n",
      "====================================================================================================\n",
      "\n",
      "\n",
      "AdaBoost Classifier\n",
      "Model performance for Training set\n",
      "- Accuracy: 0.8926\n",
      "- F1 score: 0.9077\n",
      "- Precision: 0.8955\n",
      "- Recall: 0.9202\n",
      "- Roc Auc Score: 0.8878\n",
      "----------------------------------------------------------------------------------------------------\n",
      "Model performance for Test set\n",
      "- Accuracy: 0.7692\n",
      "- F1 score: 0.7843\n",
      "- Precision: 0.7595\n",
      "- Recall: 0.8108\n",
      "- Roc Auc Score: 0.7677\n",
      "====================================================================================================\n",
      "\n",
      "\n"
     ]
    }
   ],
   "source": [
    "base_report = evaluate_models(X=X_res, y=y_res, models=models)"
   ]
  },
  {
   "cell_type": "code",
   "execution_count": 43,
   "id": "40977abc",
   "metadata": {},
   "outputs": [
    {
     "data": {
      "text/html": [
       "<div>\n",
       "<style scoped>\n",
       "    .dataframe tbody tr th:only-of-type {\n",
       "        vertical-align: middle;\n",
       "    }\n",
       "\n",
       "    .dataframe tbody tr th {\n",
       "        vertical-align: top;\n",
       "    }\n",
       "\n",
       "    .dataframe thead th {\n",
       "        text-align: right;\n",
       "    }\n",
       "</style>\n",
       "<table border=\"1\" class=\"dataframe\">\n",
       "  <thead>\n",
       "    <tr style=\"text-align: right;\">\n",
       "      <th></th>\n",
       "      <th>Model Name</th>\n",
       "      <th>Accuracy</th>\n",
       "    </tr>\n",
       "  </thead>\n",
       "  <tbody>\n",
       "    <tr>\n",
       "      <th>3</th>\n",
       "      <td>K-Neighbors Classifier</td>\n",
       "      <td>0.895105</td>\n",
       "    </tr>\n",
       "    <tr>\n",
       "      <th>0</th>\n",
       "      <td>Random Forest</td>\n",
       "      <td>0.874126</td>\n",
       "    </tr>\n",
       "    <tr>\n",
       "      <th>1</th>\n",
       "      <td>Gradient Boosting</td>\n",
       "      <td>0.846154</td>\n",
       "    </tr>\n",
       "    <tr>\n",
       "      <th>4</th>\n",
       "      <td>XGBClassifier</td>\n",
       "      <td>0.839161</td>\n",
       "    </tr>\n",
       "    <tr>\n",
       "      <th>5</th>\n",
       "      <td>AdaBoost Classifier</td>\n",
       "      <td>0.769231</td>\n",
       "    </tr>\n",
       "    <tr>\n",
       "      <th>2</th>\n",
       "      <td>Logistic Regression</td>\n",
       "      <td>0.727273</td>\n",
       "    </tr>\n",
       "  </tbody>\n",
       "</table>\n",
       "</div>"
      ],
      "text/plain": [
       "               Model Name  Accuracy\n",
       "3  K-Neighbors Classifier  0.895105\n",
       "0           Random Forest  0.874126\n",
       "1       Gradient Boosting  0.846154\n",
       "4           XGBClassifier  0.839161\n",
       "5     AdaBoost Classifier  0.769231\n",
       "2     Logistic Regression  0.727273"
      ]
     },
     "execution_count": 43,
     "metadata": {},
     "output_type": "execute_result"
    }
   ],
   "source": [
    "base_report"
   ]
  },
  {
   "cell_type": "markdown",
   "id": "f3534db9",
   "metadata": {},
   "source": [
    "**Here we can use K-Neighbors Classifier , Random Forest Classifier, Gradient Boosting Classifier, XGBClassifier.**"
   ]
  },
  {
   "cell_type": "markdown",
   "id": "64d62283",
   "metadata": {},
   "source": [
    "### Hyper Parameter Tuning"
   ]
  },
  {
   "cell_type": "code",
   "execution_count": 44,
   "id": "893c4b00",
   "metadata": {},
   "outputs": [],
   "source": [
    "#Initialize few parameter for Hyperparamter tuning\n",
    "knn_params = {\"algorithm\": ['auto', 'ball_tree', 'kd_tree','brute'], \n",
    "              \"weights\": ['uniform', 'distance'], \n",
    "              \"n_neighbors\": [3, 4, 5, 7, 9]}\n",
    "\n",
    "rf_params = {\"max_depth\": [10, 12, None, 15],\n",
    "             \"max_features\": ['sqrt', 'log2', None],\n",
    "             \"min_samples_split\": [100, 150, 200, 300],\n",
    "             \"n_estimators\": [10, 50, 100, 200]}\n",
    "\n",
    "GB_params = {\"learning_rate\": [0.1, 0.01], \n",
    "             \"max_depth\": [5, 8, 12, 20, 30], \n",
    "             \"n_estimators\": [100, 200, 300]}\n",
    "\n",
    "xgboost_params = {\"learning_rate\": [0.1, 0.01], \n",
    "                  \"max_depth\": [5, 8, 12, 20, 30], \n",
    "                  \"n_estimators\": [100, 200, 300], \n",
    "                  \"colsample_bylevel\": [0.5, 0.8, 1, 0.3, 0.4]}"
   ]
  },
  {
   "cell_type": "code",
   "execution_count": 45,
   "id": "a46028bd",
   "metadata": {},
   "outputs": [],
   "source": [
    "# Models list for Hyperparameter tuning\n",
    "randomcv_models = [(\"KNN\", KNeighborsClassifier(), knn_params), \n",
    "                   (\"RF\", RandomForestClassifier(), rf_params), \n",
    "                   ('GB', GradientBoostingClassifier(), GB_params), \n",
    "                   ('XGBoost', XGBClassifier(), xgboost_params)]"
   ]
  },
  {
   "cell_type": "code",
   "execution_count": 46,
   "id": "0dc8830b",
   "metadata": {},
   "outputs": [
    {
     "name": "stdout",
     "output_type": "stream",
     "text": [
      "Fitting 3 folds for each of 40 candidates, totalling 120 fits\n",
      "Fitting 3 folds for each of 100 candidates, totalling 300 fits\n",
      "Fitting 3 folds for each of 30 candidates, totalling 90 fits\n",
      "Fitting 3 folds for each of 100 candidates, totalling 300 fits\n",
      "\n",
      "Best Params for KNN: \n",
      "{'weights': 'distance', 'n_neighbors': 3, 'algorithm': 'auto'}\n",
      "----------------------------------------------------------------------------------------------------\n",
      "\n",
      "Best Params for RF: \n",
      "{'n_estimators': 200, 'min_samples_split': 100, 'max_features': 'sqrt', 'max_depth': 10}\n",
      "----------------------------------------------------------------------------------------------------\n",
      "\n",
      "Best Params for GB: \n",
      "{'n_estimators': 200, 'max_depth': 8, 'learning_rate': 0.1}\n",
      "----------------------------------------------------------------------------------------------------\n",
      "\n",
      "Best Params for XGBoost: \n",
      "{'n_estimators': 100, 'max_depth': 30, 'learning_rate': 0.1, 'colsample_bylevel': 0.3}\n",
      "----------------------------------------------------------------------------------------------------\n"
     ]
    }
   ],
   "source": [
    "from sklearn.model_selection import RandomizedSearchCV\n",
    "\n",
    "model_param = {}\n",
    "for name, model, params in randomcv_models:\n",
    "    random = RandomizedSearchCV(estimator=model, param_distributions=params, \n",
    "                                n_iter=100, cv=3, verbose=2, n_jobs=-1)\n",
    "    random.fit(X_res, y_res)\n",
    "    model_param[name] = random.best_params_\n",
    "\n",
    "for model_name in model_param:\n",
    "    print('\\nBest Params for {}: '.format(model_name))\n",
    "    print(model_param[model_name])\n",
    "    print('--'*50)"
   ]
  },
  {
   "cell_type": "markdown",
   "id": "9758d026",
   "metadata": {},
   "source": [
    "### Retraining the Model with best Parameters"
   ]
  },
  {
   "cell_type": "code",
   "execution_count": 47,
   "id": "3103bce3",
   "metadata": {
    "scrolled": false
   },
   "outputs": [
    {
     "name": "stdout",
     "output_type": "stream",
     "text": [
      "KNeighborsClassifier\n",
      "Model performance for Training set\n",
      "- Accuracy: 1.0000\n",
      "- F1 score: 1.0000\n",
      "- Precision: 1.0000\n",
      "- Recall: 1.0000\n",
      "- Roc Auc Score: 1.0000\n",
      "----------------------------------------------------------------------------------------------------\n",
      "Model performance for Test set\n",
      "- Accuracy: 0.9231\n",
      "- F1 score: 0.9262\n",
      "- Precision: 0.9200\n",
      "- Recall: 0.9324\n",
      "- Roc Auc Score: 0.9227\n",
      "====================================================================================================\n",
      "\n",
      "\n",
      "Random Forest Classifier\n",
      "Model performance for Training set\n",
      "- Accuracy: 0.8627\n",
      "- F1 score: 0.8866\n",
      "- Precision: 0.8425\n",
      "- Recall: 0.9356\n",
      "- Roc Auc Score: 0.8500\n",
      "----------------------------------------------------------------------------------------------------\n",
      "Model performance for Test set\n",
      "- Accuracy: 0.7552\n",
      "- F1 score: 0.7853\n",
      "- Precision: 0.7191\n",
      "- Recall: 0.8649\n",
      "- Roc Auc Score: 0.7513\n",
      "====================================================================================================\n",
      "\n",
      "\n",
      "GBClassifier\n",
      "Model performance for Training set\n",
      "- Accuracy: 1.0000\n",
      "- F1 score: 1.0000\n",
      "- Precision: 1.0000\n",
      "- Recall: 1.0000\n",
      "- Roc Auc Score: 1.0000\n",
      "----------------------------------------------------------------------------------------------------\n",
      "Model performance for Test set\n",
      "- Accuracy: 0.8671\n",
      "- F1 score: 0.8834\n",
      "- Precision: 0.8090\n",
      "- Recall: 0.9730\n",
      "- Roc Auc Score: 0.8633\n",
      "====================================================================================================\n",
      "\n",
      "\n",
      "XGBClassifier\n",
      "Model performance for Training set\n",
      "- Accuracy: 1.0000\n",
      "- F1 score: 1.0000\n",
      "- Precision: 1.0000\n",
      "- Recall: 1.0000\n",
      "- Roc Auc Score: 1.0000\n",
      "----------------------------------------------------------------------------------------------------\n",
      "Model performance for Test set\n",
      "- Accuracy: 0.8601\n",
      "- F1 score: 0.8701\n",
      "- Precision: 0.8375\n",
      "- Recall: 0.9054\n",
      "- Roc Auc Score: 0.8585\n",
      "====================================================================================================\n",
      "\n",
      "\n"
     ]
    }
   ],
   "source": [
    "from sklearn.metrics import roc_auc_score, roc_curve\n",
    "best_models = {\"KNeighborsClassifier\": KNeighborsClassifier(**model_param['KNN']), \n",
    "               \"Random Forest Classifier\": RandomForestClassifier(**model_param['RF']), \n",
    "               \"GBClassifier\": GradientBoostingClassifier(**model_param['GB']), \n",
    "               \"XGBClassifier\": XGBClassifier(**model_param['XGBoost'], n_jobs=-1),}\n",
    "tuned_report = evaluate_models(X=X_res, y=y_res, models=best_models)"
   ]
  },
  {
   "cell_type": "code",
   "execution_count": 48,
   "id": "7ab4f3ff",
   "metadata": {},
   "outputs": [
    {
     "data": {
      "text/html": [
       "<div>\n",
       "<style scoped>\n",
       "    .dataframe tbody tr th:only-of-type {\n",
       "        vertical-align: middle;\n",
       "    }\n",
       "\n",
       "    .dataframe tbody tr th {\n",
       "        vertical-align: top;\n",
       "    }\n",
       "\n",
       "    .dataframe thead th {\n",
       "        text-align: right;\n",
       "    }\n",
       "</style>\n",
       "<table border=\"1\" class=\"dataframe\">\n",
       "  <thead>\n",
       "    <tr style=\"text-align: right;\">\n",
       "      <th></th>\n",
       "      <th>Model Name</th>\n",
       "      <th>Accuracy</th>\n",
       "    </tr>\n",
       "  </thead>\n",
       "  <tbody>\n",
       "    <tr>\n",
       "      <th>0</th>\n",
       "      <td>KNeighborsClassifier</td>\n",
       "      <td>0.923077</td>\n",
       "    </tr>\n",
       "    <tr>\n",
       "      <th>2</th>\n",
       "      <td>GBClassifier</td>\n",
       "      <td>0.867133</td>\n",
       "    </tr>\n",
       "    <tr>\n",
       "      <th>3</th>\n",
       "      <td>XGBClassifier</td>\n",
       "      <td>0.860140</td>\n",
       "    </tr>\n",
       "    <tr>\n",
       "      <th>1</th>\n",
       "      <td>Random Forest Classifier</td>\n",
       "      <td>0.755245</td>\n",
       "    </tr>\n",
       "  </tbody>\n",
       "</table>\n",
       "</div>"
      ],
      "text/plain": [
       "                 Model Name  Accuracy\n",
       "0      KNeighborsClassifier  0.923077\n",
       "2              GBClassifier  0.867133\n",
       "3             XGBClassifier  0.860140\n",
       "1  Random Forest Classifier  0.755245"
      ]
     },
     "execution_count": 48,
     "metadata": {},
     "output_type": "execute_result"
    }
   ],
   "source": [
    "tuned_report"
   ]
  },
  {
   "cell_type": "markdown",
   "id": "86ae9437",
   "metadata": {},
   "source": [
    "## Plot Roc Auc Curve"
   ]
  },
  {
   "cell_type": "code",
   "execution_count": 50,
   "id": "dc6a57f9",
   "metadata": {},
   "outputs": [
    {
     "data": {
      "image/png": "[encoded data removed]",
      "text/plain": [
       "<Figure size 1008x576 with 1 Axes>"
      ]
     },
     "metadata": {},
     "output_type": "display_data"
    }
   ],
   "source": [
    "from sklearn.metrics import roc_auc_score, roc_curve\n",
    "# Add the models to the list that you want to view on the ROC plot\n",
    "auc_models = [{'label': \"K-Nearest Neighbour Classifier\", \n",
    "               'model': KNeighborsClassifier(**model_param['KNN']), \n",
    "               'auc': 0.9230 }, \n",
    "              \n",
    "              {'label': 'GBClassifier', \n",
    "               'model': GradientBoostingClassifier(**model_param['GB']), \n",
    "               'auc': 0.8671},\n",
    "              \n",
    "              {'label': 'XGBoost Classifier', \n",
    "               'model': XGBClassifier(**model_param['XGBoost'], n_jobs=-1), \n",
    "               'auc': 0.8601}, \n",
    "              \n",
    "              {'label': 'Random Forest Classifier', \n",
    "               'model': RandomForestClassifier(**model_param['RF']), \n",
    "               'auc': 0.7552}, \n",
    "             ]\n",
    "\n",
    "X_train, X_test, y_train, y_test = train_test_split(X_res, y_res, test_size=0.2, random_state=42)\n",
    "\n",
    "# create loop through all model\n",
    "plt.figure(figsize=(14, 8))\n",
    "for algo in auc_models:\n",
    "    model = algo['model']       # select the model\n",
    "    model.fit(X_train, y_train) # train the model\n",
    "    \n",
    "# Compute False postive rate, and True positive rate\n",
    "    fpr, tpr, thresholds = roc_curve(y_test, model.predict_proba(X_test)[:, 1])\n",
    "    \n",
    "# Calculate Area under the curve to display on the plot\n",
    "    plt.plot(fpr, tpr, label='%s ROC (area = %0.2f)' % (algo['label'], algo['auc']))\n",
    "    \n",
    "# Custom settings for the plot\n",
    "plt.plot([0, 1], [0, 1], 'r--')\n",
    "plt.xlim([0.0, 1.0])\n",
    "plt.ylim([0.0, 1.05])\n",
    "plt.xlabel('1-Specificity(False Positive Rate)', fontsize=16, fontweight='bold')\n",
    "plt.ylabel('Sensitivity(True Positive Rate)', fontsize=16, fontweight='bold')\n",
    "plt.title('Receiver Operating Characteristic', fontsize=22, fontweight='bold')\n",
    "plt.legend(loc=\"lower right\")\n",
    "\n",
    "# plt.savefig(r\"./images/auc.png\")\n",
    "plt.show()   # Display"
   ]
  },
  {
   "cell_type": "markdown",
   "id": "6ce3fcba",
   "metadata": {},
   "source": [
    "- KNN Classifier performs the best compared to other models. "
   ]
  },
  {
   "cell_type": "markdown",
   "id": "4d9443b9",
   "metadata": {},
   "source": [
    "## Final report"
   ]
  },
  {
   "cell_type": "code",
   "execution_count": 51,
   "id": "398bb6cb",
   "metadata": {},
   "outputs": [
    {
     "name": "stdout",
     "output_type": "stream",
     "text": [
      "FINAL MODEL 'KNN'\n",
      "Accuracy Score value: 0.9231\n",
      "\n",
      "classification_report: \n",
      "               precision    recall  f1-score   support\n",
      "\n",
      "           0       0.93      0.91      0.92        69\n",
      "           1       0.92      0.93      0.93        74\n",
      "\n",
      "    accuracy                           0.92       143\n",
      "   macro avg       0.92      0.92      0.92       143\n",
      "weighted avg       0.92      0.92      0.92       143\n",
      "\n"
     ]
    }
   ],
   "source": [
    "best_model = KNeighborsClassifier(**model_param['KNN'])\n",
    "best_model = best_model.fit(X_train, y_train)\n",
    "y_pred = best_model.predict(X_test)\n",
    "score = accuracy_score(y_test, y_pred)\n",
    "cr = classification_report(y_test, y_pred)\n",
    "\n",
    "print(\"FINAL MODEL 'KNN'\")\n",
    "print (\"Accuracy Score value: {:.4f}\\n\".format(score))\n",
    "print ('classification_report: \\n', cr)"
   ]
  },
  {
   "cell_type": "code",
   "execution_count": 52,
   "id": "c233924f",
   "metadata": {},
   "outputs": [
    {
     "data": {
      "text/plain": [
       "<sklearn.metrics._plot.confusion_matrix.ConfusionMatrixDisplay at 0x18cc0c1ec40>"
      ]
     },
     "execution_count": 52,
     "metadata": {},
     "output_type": "execute_result"
    },
    {
     "data": {
      "image/png": "[encoded data removed]",
      "text/plain": [
       "<Figure size 432x288 with 2 Axes>"
      ]
     },
     "metadata": {},
     "output_type": "display_data"
    }
   ],
   "source": [
    "from sklearn.metrics import ConfusionMatrixDisplay\n",
    "ConfusionMatrixDisplay.from_estimator(best_model, X_test, y_test)"
   ]
  },
  {
   "cell_type": "markdown",
   "id": "109cccb4",
   "metadata": {},
   "source": [
    "### Best Model is KNN Classifier with 92.31 % Accuracy."
   ]
  },
  {
   "cell_type": "markdown",
   "id": "8a1c598d",
   "metadata": {},
   "source": [
    "### Saving Model : Serialization"
   ]
  },
  {
   "cell_type": "code",
   "execution_count": 53,
   "id": "9bdc4207",
   "metadata": {},
   "outputs": [],
   "source": [
    "import pickle\n",
    "\n",
    "model = best_model\n",
    "# open a file, where need to store the data\n",
    "file = open('best_model.pkl', 'wb')\n",
    "\n",
    "# dump to file\n",
    "pickle.dump(model, file)"
   ]
  },
  {
   "cell_type": "markdown",
   "id": "d0e34f97",
   "metadata": {},
   "source": [
    "### Explain how you will export the trained models & deploy it for prediction in production."
   ]
  },
  {
   "cell_type": "markdown",
   "id": "efeb38ac",
   "metadata": {},
   "source": [
    "- Till now, we have trained model. Now we need to deploy the model for productionsation.\n",
    "\n",
    "\n",
    "- For prediction in production, we need to **`create fully automated pipeline`**, need to automate all the training steps.\n",
    "- For the same, we need to write **`code in modular fashion`**, we will write code in **`OOPS`** only, so that in case we need to do some changes in future, we can do easyly.\n",
    "- **`Exception handling`** is a crital part for the productionisation.\n",
    "\n",
    "\n",
    "- We will have to **`log`** each and every activity, so that in case of bug or any issue with model, we can identify easyly.\n",
    "- **`Scalability`** - It is good to make model auto scalable, so that model won't fail if there are number of users increase.\n",
    "- Need to use fast databases. \n",
    "\n",
    "\n",
    "- Model should be able to run on different-different operating platform, for the same we can use **`DockerHub & CI-CD pipeline`**.\n",
    "\n",
    "\n",
    "- **`Hypercare program`** - We should provide the hypercare program to the client, in case if there is any issue with model after a certain time of period then it is our responsibilty to fix it.\n",
    "\n",
    "\n",
    "- **`Retraining Approach`** - We can use feedback approach as well as manual approach."
   ]
  },
  {
   "cell_type": "markdown",
   "id": "7450523e",
   "metadata": {},
   "source": [
    "---\n",
    "---\n",
    "\n",
    "$$ Thank You ! $$"
   ]
  }
 ],
 "metadata": {
  "kernelspec": {
   "display_name": "Python 3 (ipykernel)",
   "language": "python",
   "name": "python3"
  },
  "language_info": {
   "codemirror_mode": {
    "name": "ipython",
    "version": 3
   },
   "file_extension": ".py",
   "mimetype": "text/x-python",
   "name": "python",
   "nbconvert_exporter": "python",
   "pygments_lexer": "ipython3",
   "version": "3.9.12"
  }
 },
 "nbformat": 4,
 "nbformat_minor": 5
}
